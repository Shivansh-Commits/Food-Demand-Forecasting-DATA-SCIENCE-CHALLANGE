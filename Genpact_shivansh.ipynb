{
 "cells": [
  {
   "cell_type": "markdown",
   "metadata": {},
   "source": [
    "# Understanding the Problem statement :\n",
    "## Given the Data of a food supplier company , our goal is to forecast the quantity of food required to keep in stock for the coming weeks ,in order to prevent over or under stocking of food items in each center.\n",
    "### Problem Statement: the task is to predict the demand for the next 10 weeks (Weeks: 146-155) for the center-meal combinations in the test set:\n",
    "\n",
    "### train.csv is the main data set followed by two other small data sets contaning meal information of every meal available and center information\n"
   ]
  },
  {
   "cell_type": "code",
   "execution_count": 1,
   "metadata": {
    "raw_mimetype": "text/html",
    "scrolled": true,
    "slideshow": {
     "slide_type": "-"
    }
   },
   "outputs": [],
   "source": [
    "import pandas as pd    # importing Pandas for file handling"
   ]
  },
  {
   "cell_type": "code",
   "execution_count": 2,
   "metadata": {
    "scrolled": true
   },
   "outputs": [],
   "source": [
    "train = pd.read_csv('train.csv')\n",
    "meal = pd.read_csv('meal_info.csv')\n",
    "center = pd.read_csv('fulfilment_center_info.csv')  \n",
    "test = pd.read_csv('test.csv')   # importing all the datasets"
   ]
  },
  {
   "cell_type": "code",
   "execution_count": 3,
   "metadata": {
    "scrolled": true
   },
   "outputs": [
    {
     "data": {
      "text/html": [
       "<div>\n",
       "<style scoped>\n",
       "    .dataframe tbody tr th:only-of-type {\n",
       "        vertical-align: middle;\n",
       "    }\n",
       "\n",
       "    .dataframe tbody tr th {\n",
       "        vertical-align: top;\n",
       "    }\n",
       "\n",
       "    .dataframe thead th {\n",
       "        text-align: right;\n",
       "    }\n",
       "</style>\n",
       "<table border=\"1\" class=\"dataframe\">\n",
       "  <thead>\n",
       "    <tr style=\"text-align: right;\">\n",
       "      <th></th>\n",
       "      <th>id</th>\n",
       "      <th>week</th>\n",
       "      <th>center_id</th>\n",
       "      <th>meal_id</th>\n",
       "      <th>checkout_price</th>\n",
       "      <th>base_price</th>\n",
       "      <th>emailer_for_promotion</th>\n",
       "      <th>homepage_featured</th>\n",
       "      <th>num_orders</th>\n",
       "    </tr>\n",
       "  </thead>\n",
       "  <tbody>\n",
       "    <tr>\n",
       "      <th>0</th>\n",
       "      <td>1379560</td>\n",
       "      <td>1</td>\n",
       "      <td>55</td>\n",
       "      <td>1885</td>\n",
       "      <td>136.83</td>\n",
       "      <td>152.29</td>\n",
       "      <td>0</td>\n",
       "      <td>0</td>\n",
       "      <td>177</td>\n",
       "    </tr>\n",
       "    <tr>\n",
       "      <th>1</th>\n",
       "      <td>1466964</td>\n",
       "      <td>1</td>\n",
       "      <td>55</td>\n",
       "      <td>1993</td>\n",
       "      <td>136.83</td>\n",
       "      <td>135.83</td>\n",
       "      <td>0</td>\n",
       "      <td>0</td>\n",
       "      <td>270</td>\n",
       "    </tr>\n",
       "    <tr>\n",
       "      <th>2</th>\n",
       "      <td>1346989</td>\n",
       "      <td>1</td>\n",
       "      <td>55</td>\n",
       "      <td>2539</td>\n",
       "      <td>134.86</td>\n",
       "      <td>135.86</td>\n",
       "      <td>0</td>\n",
       "      <td>0</td>\n",
       "      <td>189</td>\n",
       "    </tr>\n",
       "    <tr>\n",
       "      <th>3</th>\n",
       "      <td>1338232</td>\n",
       "      <td>1</td>\n",
       "      <td>55</td>\n",
       "      <td>2139</td>\n",
       "      <td>339.50</td>\n",
       "      <td>437.53</td>\n",
       "      <td>0</td>\n",
       "      <td>0</td>\n",
       "      <td>54</td>\n",
       "    </tr>\n",
       "    <tr>\n",
       "      <th>4</th>\n",
       "      <td>1448490</td>\n",
       "      <td>1</td>\n",
       "      <td>55</td>\n",
       "      <td>2631</td>\n",
       "      <td>243.50</td>\n",
       "      <td>242.50</td>\n",
       "      <td>0</td>\n",
       "      <td>0</td>\n",
       "      <td>40</td>\n",
       "    </tr>\n",
       "  </tbody>\n",
       "</table>\n",
       "</div>"
      ],
      "text/plain": [
       "        id  week  center_id  meal_id  checkout_price  base_price  \\\n",
       "0  1379560     1         55     1885          136.83      152.29   \n",
       "1  1466964     1         55     1993          136.83      135.83   \n",
       "2  1346989     1         55     2539          134.86      135.86   \n",
       "3  1338232     1         55     2139          339.50      437.53   \n",
       "4  1448490     1         55     2631          243.50      242.50   \n",
       "\n",
       "   emailer_for_promotion  homepage_featured  num_orders  \n",
       "0                      0                  0         177  \n",
       "1                      0                  0         270  \n",
       "2                      0                  0         189  \n",
       "3                      0                  0          54  \n",
       "4                      0                  0          40  "
      ]
     },
     "execution_count": 3,
     "metadata": {},
     "output_type": "execute_result"
    }
   ],
   "source": [
    "train.head()"
   ]
  },
  {
   "cell_type": "code",
   "execution_count": 4,
   "metadata": {
    "scrolled": true
   },
   "outputs": [
    {
     "data": {
      "text/plain": [
       "(456548, 9)"
      ]
     },
     "execution_count": 4,
     "metadata": {},
     "output_type": "execute_result"
    }
   ],
   "source": [
    "train.shape"
   ]
  },
  {
   "cell_type": "code",
   "execution_count": 5,
   "metadata": {
    "scrolled": true
   },
   "outputs": [
    {
     "data": {
      "text/html": [
       "<div>\n",
       "<style scoped>\n",
       "    .dataframe tbody tr th:only-of-type {\n",
       "        vertical-align: middle;\n",
       "    }\n",
       "\n",
       "    .dataframe tbody tr th {\n",
       "        vertical-align: top;\n",
       "    }\n",
       "\n",
       "    .dataframe thead th {\n",
       "        text-align: right;\n",
       "    }\n",
       "</style>\n",
       "<table border=\"1\" class=\"dataframe\">\n",
       "  <thead>\n",
       "    <tr style=\"text-align: right;\">\n",
       "      <th></th>\n",
       "      <th>meal_id</th>\n",
       "      <th>category</th>\n",
       "      <th>cuisine</th>\n",
       "    </tr>\n",
       "  </thead>\n",
       "  <tbody>\n",
       "    <tr>\n",
       "      <th>0</th>\n",
       "      <td>1885</td>\n",
       "      <td>Beverages</td>\n",
       "      <td>Thai</td>\n",
       "    </tr>\n",
       "    <tr>\n",
       "      <th>1</th>\n",
       "      <td>1993</td>\n",
       "      <td>Beverages</td>\n",
       "      <td>Thai</td>\n",
       "    </tr>\n",
       "    <tr>\n",
       "      <th>2</th>\n",
       "      <td>2539</td>\n",
       "      <td>Beverages</td>\n",
       "      <td>Thai</td>\n",
       "    </tr>\n",
       "    <tr>\n",
       "      <th>3</th>\n",
       "      <td>1248</td>\n",
       "      <td>Beverages</td>\n",
       "      <td>Indian</td>\n",
       "    </tr>\n",
       "    <tr>\n",
       "      <th>4</th>\n",
       "      <td>2631</td>\n",
       "      <td>Beverages</td>\n",
       "      <td>Indian</td>\n",
       "    </tr>\n",
       "  </tbody>\n",
       "</table>\n",
       "</div>"
      ],
      "text/plain": [
       "   meal_id   category cuisine\n",
       "0     1885  Beverages    Thai\n",
       "1     1993  Beverages    Thai\n",
       "2     2539  Beverages    Thai\n",
       "3     1248  Beverages  Indian\n",
       "4     2631  Beverages  Indian"
      ]
     },
     "execution_count": 5,
     "metadata": {},
     "output_type": "execute_result"
    }
   ],
   "source": [
    "meal.head()"
   ]
  },
  {
   "cell_type": "code",
   "execution_count": 6,
   "metadata": {
    "scrolled": true
   },
   "outputs": [
    {
     "data": {
      "text/plain": [
       "(51, 3)"
      ]
     },
     "execution_count": 6,
     "metadata": {},
     "output_type": "execute_result"
    }
   ],
   "source": [
    "meal.shape"
   ]
  },
  {
   "cell_type": "code",
   "execution_count": 7,
   "metadata": {
    "scrolled": true
   },
   "outputs": [
    {
     "data": {
      "text/plain": [
       "51"
      ]
     },
     "execution_count": 7,
     "metadata": {},
     "output_type": "execute_result"
    }
   ],
   "source": [
    "meal['meal_id'].nunique()"
   ]
  },
  {
   "cell_type": "code",
   "execution_count": 8,
   "metadata": {
    "scrolled": true
   },
   "outputs": [
    {
     "data": {
      "text/html": [
       "<div>\n",
       "<style scoped>\n",
       "    .dataframe tbody tr th:only-of-type {\n",
       "        vertical-align: middle;\n",
       "    }\n",
       "\n",
       "    .dataframe tbody tr th {\n",
       "        vertical-align: top;\n",
       "    }\n",
       "\n",
       "    .dataframe thead th {\n",
       "        text-align: right;\n",
       "    }\n",
       "</style>\n",
       "<table border=\"1\" class=\"dataframe\">\n",
       "  <thead>\n",
       "    <tr style=\"text-align: right;\">\n",
       "      <th></th>\n",
       "      <th>center_id</th>\n",
       "      <th>city_code</th>\n",
       "      <th>region_code</th>\n",
       "      <th>center_type</th>\n",
       "      <th>op_area</th>\n",
       "    </tr>\n",
       "  </thead>\n",
       "  <tbody>\n",
       "    <tr>\n",
       "      <th>0</th>\n",
       "      <td>11</td>\n",
       "      <td>679</td>\n",
       "      <td>56</td>\n",
       "      <td>TYPE_A</td>\n",
       "      <td>3.7</td>\n",
       "    </tr>\n",
       "    <tr>\n",
       "      <th>1</th>\n",
       "      <td>13</td>\n",
       "      <td>590</td>\n",
       "      <td>56</td>\n",
       "      <td>TYPE_B</td>\n",
       "      <td>6.7</td>\n",
       "    </tr>\n",
       "    <tr>\n",
       "      <th>2</th>\n",
       "      <td>124</td>\n",
       "      <td>590</td>\n",
       "      <td>56</td>\n",
       "      <td>TYPE_C</td>\n",
       "      <td>4.0</td>\n",
       "    </tr>\n",
       "    <tr>\n",
       "      <th>3</th>\n",
       "      <td>66</td>\n",
       "      <td>648</td>\n",
       "      <td>34</td>\n",
       "      <td>TYPE_A</td>\n",
       "      <td>4.1</td>\n",
       "    </tr>\n",
       "    <tr>\n",
       "      <th>4</th>\n",
       "      <td>94</td>\n",
       "      <td>632</td>\n",
       "      <td>34</td>\n",
       "      <td>TYPE_C</td>\n",
       "      <td>3.6</td>\n",
       "    </tr>\n",
       "  </tbody>\n",
       "</table>\n",
       "</div>"
      ],
      "text/plain": [
       "   center_id  city_code  region_code center_type  op_area\n",
       "0         11        679           56      TYPE_A      3.7\n",
       "1         13        590           56      TYPE_B      6.7\n",
       "2        124        590           56      TYPE_C      4.0\n",
       "3         66        648           34      TYPE_A      4.1\n",
       "4         94        632           34      TYPE_C      3.6"
      ]
     },
     "execution_count": 8,
     "metadata": {},
     "output_type": "execute_result"
    }
   ],
   "source": [
    "center.head()"
   ]
  },
  {
   "cell_type": "code",
   "execution_count": 9,
   "metadata": {},
   "outputs": [
    {
     "data": {
      "text/plain": [
       "(77, 5)"
      ]
     },
     "execution_count": 9,
     "metadata": {},
     "output_type": "execute_result"
    }
   ],
   "source": [
    "center.shape"
   ]
  },
  {
   "cell_type": "code",
   "execution_count": 10,
   "metadata": {
    "scrolled": true
   },
   "outputs": [
    {
     "data": {
      "text/plain": [
       "77"
      ]
     },
     "execution_count": 10,
     "metadata": {},
     "output_type": "execute_result"
    }
   ],
   "source": [
    "center['center_id'].nunique()"
   ]
  },
  {
   "cell_type": "markdown",
   "metadata": {},
   "source": [
    "## As we have three diffrent data sets and all of them hold significance therefore it is necessary to combine all three data sets.\n",
    "### first we will merge 'train' with 'meal' to train and then 'train' with 'center' again to train. Then finally we will get a dataframe 'train' which will be the combination of all the three data sets "
   ]
  },
  {
   "cell_type": "code",
   "execution_count": 11,
   "metadata": {
    "scrolled": true
   },
   "outputs": [],
   "source": [
    "def join(data_1 , data_2 , common_feature):\n",
    "    train = pd.merge(left = data_1 , right = data_2 , \n",
    "    how = \"left\" , left_on = common_feature ,\n",
    "    right_on = common_feature)\n",
    "    return train"
   ]
  },
  {
   "cell_type": "code",
   "execution_count": 12,
   "metadata": {
    "scrolled": true
   },
   "outputs": [],
   "source": [
    "train = join(train,meal,'meal_id')\n",
    "train = join(train,center,'center_id')"
   ]
  },
  {
   "cell_type": "code",
   "execution_count": 13,
   "metadata": {
    "scrolled": true
   },
   "outputs": [
    {
     "data": {
      "text/html": [
       "<div>\n",
       "<style scoped>\n",
       "    .dataframe tbody tr th:only-of-type {\n",
       "        vertical-align: middle;\n",
       "    }\n",
       "\n",
       "    .dataframe tbody tr th {\n",
       "        vertical-align: top;\n",
       "    }\n",
       "\n",
       "    .dataframe thead th {\n",
       "        text-align: right;\n",
       "    }\n",
       "</style>\n",
       "<table border=\"1\" class=\"dataframe\">\n",
       "  <thead>\n",
       "    <tr style=\"text-align: right;\">\n",
       "      <th></th>\n",
       "      <th>id</th>\n",
       "      <th>week</th>\n",
       "      <th>center_id</th>\n",
       "      <th>meal_id</th>\n",
       "      <th>checkout_price</th>\n",
       "      <th>base_price</th>\n",
       "      <th>emailer_for_promotion</th>\n",
       "      <th>homepage_featured</th>\n",
       "      <th>num_orders</th>\n",
       "      <th>category</th>\n",
       "      <th>cuisine</th>\n",
       "      <th>city_code</th>\n",
       "      <th>region_code</th>\n",
       "      <th>center_type</th>\n",
       "      <th>op_area</th>\n",
       "    </tr>\n",
       "  </thead>\n",
       "  <tbody>\n",
       "    <tr>\n",
       "      <th>0</th>\n",
       "      <td>1379560</td>\n",
       "      <td>1</td>\n",
       "      <td>55</td>\n",
       "      <td>1885</td>\n",
       "      <td>136.83</td>\n",
       "      <td>152.29</td>\n",
       "      <td>0</td>\n",
       "      <td>0</td>\n",
       "      <td>177</td>\n",
       "      <td>Beverages</td>\n",
       "      <td>Thai</td>\n",
       "      <td>647</td>\n",
       "      <td>56</td>\n",
       "      <td>TYPE_C</td>\n",
       "      <td>2.0</td>\n",
       "    </tr>\n",
       "    <tr>\n",
       "      <th>1</th>\n",
       "      <td>1466964</td>\n",
       "      <td>1</td>\n",
       "      <td>55</td>\n",
       "      <td>1993</td>\n",
       "      <td>136.83</td>\n",
       "      <td>135.83</td>\n",
       "      <td>0</td>\n",
       "      <td>0</td>\n",
       "      <td>270</td>\n",
       "      <td>Beverages</td>\n",
       "      <td>Thai</td>\n",
       "      <td>647</td>\n",
       "      <td>56</td>\n",
       "      <td>TYPE_C</td>\n",
       "      <td>2.0</td>\n",
       "    </tr>\n",
       "    <tr>\n",
       "      <th>2</th>\n",
       "      <td>1346989</td>\n",
       "      <td>1</td>\n",
       "      <td>55</td>\n",
       "      <td>2539</td>\n",
       "      <td>134.86</td>\n",
       "      <td>135.86</td>\n",
       "      <td>0</td>\n",
       "      <td>0</td>\n",
       "      <td>189</td>\n",
       "      <td>Beverages</td>\n",
       "      <td>Thai</td>\n",
       "      <td>647</td>\n",
       "      <td>56</td>\n",
       "      <td>TYPE_C</td>\n",
       "      <td>2.0</td>\n",
       "    </tr>\n",
       "    <tr>\n",
       "      <th>3</th>\n",
       "      <td>1338232</td>\n",
       "      <td>1</td>\n",
       "      <td>55</td>\n",
       "      <td>2139</td>\n",
       "      <td>339.50</td>\n",
       "      <td>437.53</td>\n",
       "      <td>0</td>\n",
       "      <td>0</td>\n",
       "      <td>54</td>\n",
       "      <td>Beverages</td>\n",
       "      <td>Indian</td>\n",
       "      <td>647</td>\n",
       "      <td>56</td>\n",
       "      <td>TYPE_C</td>\n",
       "      <td>2.0</td>\n",
       "    </tr>\n",
       "    <tr>\n",
       "      <th>4</th>\n",
       "      <td>1448490</td>\n",
       "      <td>1</td>\n",
       "      <td>55</td>\n",
       "      <td>2631</td>\n",
       "      <td>243.50</td>\n",
       "      <td>242.50</td>\n",
       "      <td>0</td>\n",
       "      <td>0</td>\n",
       "      <td>40</td>\n",
       "      <td>Beverages</td>\n",
       "      <td>Indian</td>\n",
       "      <td>647</td>\n",
       "      <td>56</td>\n",
       "      <td>TYPE_C</td>\n",
       "      <td>2.0</td>\n",
       "    </tr>\n",
       "  </tbody>\n",
       "</table>\n",
       "</div>"
      ],
      "text/plain": [
       "        id  week  center_id  meal_id  checkout_price  base_price  \\\n",
       "0  1379560     1         55     1885          136.83      152.29   \n",
       "1  1466964     1         55     1993          136.83      135.83   \n",
       "2  1346989     1         55     2539          134.86      135.86   \n",
       "3  1338232     1         55     2139          339.50      437.53   \n",
       "4  1448490     1         55     2631          243.50      242.50   \n",
       "\n",
       "   emailer_for_promotion  homepage_featured  num_orders   category cuisine  \\\n",
       "0                      0                  0         177  Beverages    Thai   \n",
       "1                      0                  0         270  Beverages    Thai   \n",
       "2                      0                  0         189  Beverages    Thai   \n",
       "3                      0                  0          54  Beverages  Indian   \n",
       "4                      0                  0          40  Beverages  Indian   \n",
       "\n",
       "   city_code  region_code center_type  op_area  \n",
       "0        647           56      TYPE_C      2.0  \n",
       "1        647           56      TYPE_C      2.0  \n",
       "2        647           56      TYPE_C      2.0  \n",
       "3        647           56      TYPE_C      2.0  \n",
       "4        647           56      TYPE_C      2.0  "
      ]
     },
     "execution_count": 13,
     "metadata": {},
     "output_type": "execute_result"
    }
   ],
   "source": [
    "train.head()"
   ]
  },
  {
   "cell_type": "code",
   "execution_count": 14,
   "metadata": {
    "scrolled": true
   },
   "outputs": [],
   "source": [
    "test = join(test,meal,'meal_id')\n",
    "test = join(test,center,'center_id')"
   ]
  },
  {
   "cell_type": "code",
   "execution_count": 15,
   "metadata": {
    "scrolled": true
   },
   "outputs": [
    {
     "data": {
      "text/html": [
       "<div>\n",
       "<style scoped>\n",
       "    .dataframe tbody tr th:only-of-type {\n",
       "        vertical-align: middle;\n",
       "    }\n",
       "\n",
       "    .dataframe tbody tr th {\n",
       "        vertical-align: top;\n",
       "    }\n",
       "\n",
       "    .dataframe thead th {\n",
       "        text-align: right;\n",
       "    }\n",
       "</style>\n",
       "<table border=\"1\" class=\"dataframe\">\n",
       "  <thead>\n",
       "    <tr style=\"text-align: right;\">\n",
       "      <th></th>\n",
       "      <th>id</th>\n",
       "      <th>week</th>\n",
       "      <th>center_id</th>\n",
       "      <th>meal_id</th>\n",
       "      <th>checkout_price</th>\n",
       "      <th>base_price</th>\n",
       "      <th>emailer_for_promotion</th>\n",
       "      <th>homepage_featured</th>\n",
       "      <th>category</th>\n",
       "      <th>cuisine</th>\n",
       "      <th>city_code</th>\n",
       "      <th>region_code</th>\n",
       "      <th>center_type</th>\n",
       "      <th>op_area</th>\n",
       "    </tr>\n",
       "  </thead>\n",
       "  <tbody>\n",
       "    <tr>\n",
       "      <th>0</th>\n",
       "      <td>1028232</td>\n",
       "      <td>146</td>\n",
       "      <td>55</td>\n",
       "      <td>1885</td>\n",
       "      <td>158.11</td>\n",
       "      <td>159.11</td>\n",
       "      <td>0</td>\n",
       "      <td>0</td>\n",
       "      <td>Beverages</td>\n",
       "      <td>Thai</td>\n",
       "      <td>647</td>\n",
       "      <td>56</td>\n",
       "      <td>TYPE_C</td>\n",
       "      <td>2.0</td>\n",
       "    </tr>\n",
       "    <tr>\n",
       "      <th>1</th>\n",
       "      <td>1127204</td>\n",
       "      <td>146</td>\n",
       "      <td>55</td>\n",
       "      <td>1993</td>\n",
       "      <td>160.11</td>\n",
       "      <td>159.11</td>\n",
       "      <td>0</td>\n",
       "      <td>0</td>\n",
       "      <td>Beverages</td>\n",
       "      <td>Thai</td>\n",
       "      <td>647</td>\n",
       "      <td>56</td>\n",
       "      <td>TYPE_C</td>\n",
       "      <td>2.0</td>\n",
       "    </tr>\n",
       "    <tr>\n",
       "      <th>2</th>\n",
       "      <td>1212707</td>\n",
       "      <td>146</td>\n",
       "      <td>55</td>\n",
       "      <td>2539</td>\n",
       "      <td>157.14</td>\n",
       "      <td>159.14</td>\n",
       "      <td>0</td>\n",
       "      <td>0</td>\n",
       "      <td>Beverages</td>\n",
       "      <td>Thai</td>\n",
       "      <td>647</td>\n",
       "      <td>56</td>\n",
       "      <td>TYPE_C</td>\n",
       "      <td>2.0</td>\n",
       "    </tr>\n",
       "    <tr>\n",
       "      <th>3</th>\n",
       "      <td>1082698</td>\n",
       "      <td>146</td>\n",
       "      <td>55</td>\n",
       "      <td>2631</td>\n",
       "      <td>162.02</td>\n",
       "      <td>162.02</td>\n",
       "      <td>0</td>\n",
       "      <td>0</td>\n",
       "      <td>Beverages</td>\n",
       "      <td>Indian</td>\n",
       "      <td>647</td>\n",
       "      <td>56</td>\n",
       "      <td>TYPE_C</td>\n",
       "      <td>2.0</td>\n",
       "    </tr>\n",
       "    <tr>\n",
       "      <th>4</th>\n",
       "      <td>1400926</td>\n",
       "      <td>146</td>\n",
       "      <td>55</td>\n",
       "      <td>1248</td>\n",
       "      <td>163.93</td>\n",
       "      <td>163.93</td>\n",
       "      <td>0</td>\n",
       "      <td>0</td>\n",
       "      <td>Beverages</td>\n",
       "      <td>Indian</td>\n",
       "      <td>647</td>\n",
       "      <td>56</td>\n",
       "      <td>TYPE_C</td>\n",
       "      <td>2.0</td>\n",
       "    </tr>\n",
       "  </tbody>\n",
       "</table>\n",
       "</div>"
      ],
      "text/plain": [
       "        id  week  center_id  meal_id  checkout_price  base_price  \\\n",
       "0  1028232   146         55     1885          158.11      159.11   \n",
       "1  1127204   146         55     1993          160.11      159.11   \n",
       "2  1212707   146         55     2539          157.14      159.14   \n",
       "3  1082698   146         55     2631          162.02      162.02   \n",
       "4  1400926   146         55     1248          163.93      163.93   \n",
       "\n",
       "   emailer_for_promotion  homepage_featured   category cuisine  city_code  \\\n",
       "0                      0                  0  Beverages    Thai        647   \n",
       "1                      0                  0  Beverages    Thai        647   \n",
       "2                      0                  0  Beverages    Thai        647   \n",
       "3                      0                  0  Beverages  Indian        647   \n",
       "4                      0                  0  Beverages  Indian        647   \n",
       "\n",
       "   region_code center_type  op_area  \n",
       "0           56      TYPE_C      2.0  \n",
       "1           56      TYPE_C      2.0  \n",
       "2           56      TYPE_C      2.0  \n",
       "3           56      TYPE_C      2.0  \n",
       "4           56      TYPE_C      2.0  "
      ]
     },
     "execution_count": 15,
     "metadata": {},
     "output_type": "execute_result"
    }
   ],
   "source": [
    "test.head()\n"
   ]
  },
  {
   "cell_type": "markdown",
   "metadata": {},
   "source": [
    "## Now we have merged the data sets. We can now begin data pre-processing :"
   ]
  },
  {
   "cell_type": "code",
   "execution_count": 16,
   "metadata": {
    "scrolled": true
   },
   "outputs": [],
   "source": [
    "from sklearn.model_selection import train_test_split\n",
    "import  matplotlib.pyplot as plt\n",
    "%matplotlib inline\n",
    "import seaborn as sns"
   ]
  },
  {
   "cell_type": "markdown",
   "metadata": {},
   "source": [
    "# DATA PREPROCESSING :\n"
   ]
  },
  {
   "cell_type": "markdown",
   "metadata": {},
   "source": [
    "## Checking total NULL Values in all columns"
   ]
  },
  {
   "cell_type": "code",
   "execution_count": 17,
   "metadata": {
    "scrolled": true
   },
   "outputs": [
    {
     "data": {
      "text/plain": [
       "id                       0\n",
       "week                     0\n",
       "center_id                0\n",
       "meal_id                  0\n",
       "checkout_price           0\n",
       "base_price               0\n",
       "emailer_for_promotion    0\n",
       "homepage_featured        0\n",
       "num_orders               0\n",
       "category                 0\n",
       "cuisine                  0\n",
       "city_code                0\n",
       "region_code              0\n",
       "center_type              0\n",
       "op_area                  0\n",
       "dtype: int64"
      ]
     },
     "execution_count": 17,
     "metadata": {},
     "output_type": "execute_result"
    }
   ],
   "source": [
    "train.isnull().sum()"
   ]
  },
  {
   "cell_type": "markdown",
   "metadata": {},
   "source": [
    "## Setting  Index\n"
   ]
  },
  {
   "cell_type": "code",
   "execution_count": 18,
   "metadata": {
    "scrolled": true
   },
   "outputs": [
    {
     "data": {
      "text/plain": [
       "(456548, 15)"
      ]
     },
     "execution_count": 18,
     "metadata": {},
     "output_type": "execute_result"
    }
   ],
   "source": [
    "train.shape "
   ]
  },
  {
   "cell_type": "code",
   "execution_count": 19,
   "metadata": {
    "scrolled": true
   },
   "outputs": [
    {
     "data": {
      "text/plain": [
       "456548"
      ]
     },
     "execution_count": 19,
     "metadata": {},
     "output_type": "execute_result"
    }
   ],
   "source": [
    "train['id'].nunique()"
   ]
  },
  {
   "cell_type": "code",
   "execution_count": 20,
   "metadata": {
    "scrolled": true
   },
   "outputs": [],
   "source": [
    "def set_index(train):\n",
    "    train.set_index('id' ,inplace =True)\n",
    "    test.set_index('id' , inplace=True)\n",
    "set_index(train)"
   ]
  },
  {
   "cell_type": "markdown",
   "metadata": {},
   "source": [
    "## Creating Dummies"
   ]
  },
  {
   "cell_type": "code",
   "execution_count": 21,
   "metadata": {
    "scrolled": true
   },
   "outputs": [
    {
     "data": {
      "text/plain": [
       "<matplotlib.axes._subplots.AxesSubplot at 0x21ab7343b88>"
      ]
     },
     "execution_count": 21,
     "metadata": {},
     "output_type": "execute_result"
    },
    {
     "data": {
      "image/png": "[encoded data removed]",
      "text/plain": [
       "<Figure size 1080x288 with 1 Axes>"
      ]
     },
     "metadata": {
      "needs_background": "light"
     },
     "output_type": "display_data"
    }
   ],
   "source": [
    "plt.figure(figsize=(15,4)) #Enlarging the Graph\n",
    "sns.countplot(train['category']) "
   ]
  },
  {
   "cell_type": "code",
   "execution_count": 22,
   "metadata": {
    "scrolled": true
   },
   "outputs": [
    {
     "data": {
      "text/plain": [
       "<matplotlib.axes._subplots.AxesSubplot at 0x21ab7e6af88>"
      ]
     },
     "execution_count": 22,
     "metadata": {},
     "output_type": "execute_result"
    },
    {
     "data": {
      "image/png": "[encoded data removed]",
      "text/plain": [
       "<Figure size 432x288 with 1 Axes>"
      ]
     },
     "metadata": {
      "needs_background": "light"
     },
     "output_type": "display_data"
    }
   ],
   "source": [
    "sns.countplot(train['cuisine'])"
   ]
  },
  {
   "cell_type": "code",
   "execution_count": 23,
   "metadata": {
    "scrolled": true
   },
   "outputs": [
    {
     "data": {
      "text/plain": [
       "<matplotlib.axes._subplots.AxesSubplot at 0x21ab7eb8a08>"
      ]
     },
     "execution_count": 23,
     "metadata": {},
     "output_type": "execute_result"
    },
    {
     "data": {
      "image/png": "[encoded data removed]",
      "text/plain": [
       "<Figure size 432x288 with 1 Axes>"
      ]
     },
     "metadata": {
      "needs_background": "light"
     },
     "output_type": "display_data"
    }
   ],
   "source": [
    "sns.countplot(train['center_type'])"
   ]
  },
  {
   "cell_type": "code",
   "execution_count": 24,
   "metadata": {
    "scrolled": true
   },
   "outputs": [],
   "source": [
    "def process_catagorical_vars(data):\n",
    "    cat_dummies = pd.get_dummies(data['category'] , drop_first=True)\n",
    "    cuisine_dummies = pd.get_dummies(data['cuisine'] , drop_first=True)\n",
    "    center_type_dummies = pd.get_dummies(data['center_type'] , drop_first=True)\n",
    "    \n",
    "    data.drop(['category','cuisine','center_type'], axis =1 , inplace =True)\n",
    "    \n",
    "    return pd.concat([ data ,cat_dummies , cuisine_dummies ,center_type_dummies] , axis = 1 )"
   ]
  },
  {
   "cell_type": "code",
   "execution_count": 25,
   "metadata": {
    "scrolled": true
   },
   "outputs": [],
   "source": [
    "train = process_catagorical_vars(train)\n",
    "test = process_catagorical_vars(test)"
   ]
  },
  {
   "cell_type": "code",
   "execution_count": 26,
   "metadata": {
    "scrolled": true
   },
   "outputs": [
    {
     "data": {
      "text/plain": [
       "(Index(['week', 'center_id', 'meal_id', 'checkout_price', 'base_price',\n",
       "        'emailer_for_promotion', 'homepage_featured', 'num_orders', 'city_code',\n",
       "        'region_code', 'op_area', 'Biryani', 'Desert', 'Extras', 'Fish',\n",
       "        'Other Snacks', 'Pasta', 'Pizza', 'Rice Bowl', 'Salad', 'Sandwich',\n",
       "        'Seafood', 'Soup', 'Starters', 'Indian', 'Italian', 'Thai', 'TYPE_B',\n",
       "        'TYPE_C'],\n",
       "       dtype='object'),\n",
       " Index(['week', 'center_id', 'meal_id', 'checkout_price', 'base_price',\n",
       "        'emailer_for_promotion', 'homepage_featured', 'city_code',\n",
       "        'region_code', 'op_area', 'Biryani', 'Desert', 'Extras', 'Fish',\n",
       "        'Other Snacks', 'Pasta', 'Pizza', 'Rice Bowl', 'Salad', 'Sandwich',\n",
       "        'Seafood', 'Soup', 'Starters', 'Indian', 'Italian', 'Thai', 'TYPE_B',\n",
       "        'TYPE_C'],\n",
       "       dtype='object'))"
      ]
     },
     "execution_count": 26,
     "metadata": {},
     "output_type": "execute_result"
    }
   ],
   "source": [
    "train.columns , test.columns #Dummies Created successfully"
   ]
  },
  {
   "cell_type": "markdown",
   "metadata": {},
   "source": [
    "## Dropping Irrelevant Features "
   ]
  },
  {
   "cell_type": "code",
   "execution_count": 27,
   "metadata": {
    "scrolled": true
   },
   "outputs": [],
   "source": [
    "corr = train.corr()"
   ]
  },
  {
   "cell_type": "code",
   "execution_count": 28,
   "metadata": {
    "scrolled": false
   },
   "outputs": [
    {
     "data": {
      "text/html": [
       "<div>\n",
       "<style scoped>\n",
       "    .dataframe tbody tr th:only-of-type {\n",
       "        vertical-align: middle;\n",
       "    }\n",
       "\n",
       "    .dataframe tbody tr th {\n",
       "        vertical-align: top;\n",
       "    }\n",
       "\n",
       "    .dataframe thead th {\n",
       "        text-align: right;\n",
       "    }\n",
       "</style>\n",
       "<table border=\"1\" class=\"dataframe\">\n",
       "  <thead>\n",
       "    <tr style=\"text-align: right;\">\n",
       "      <th></th>\n",
       "      <th>week</th>\n",
       "      <th>center_id</th>\n",
       "      <th>meal_id</th>\n",
       "      <th>checkout_price</th>\n",
       "      <th>base_price</th>\n",
       "      <th>emailer_for_promotion</th>\n",
       "      <th>homepage_featured</th>\n",
       "      <th>num_orders</th>\n",
       "      <th>city_code</th>\n",
       "      <th>region_code</th>\n",
       "      <th>...</th>\n",
       "      <th>Salad</th>\n",
       "      <th>Sandwich</th>\n",
       "      <th>Seafood</th>\n",
       "      <th>Soup</th>\n",
       "      <th>Starters</th>\n",
       "      <th>Indian</th>\n",
       "      <th>Italian</th>\n",
       "      <th>Thai</th>\n",
       "      <th>TYPE_B</th>\n",
       "      <th>TYPE_C</th>\n",
       "    </tr>\n",
       "  </thead>\n",
       "  <tbody>\n",
       "    <tr>\n",
       "      <th>week</th>\n",
       "      <td>1.000000</td>\n",
       "      <td>-0.003450</td>\n",
       "      <td>0.019814</td>\n",
       "      <td>0.026581</td>\n",
       "      <td>0.028614</td>\n",
       "      <td>-0.000841</td>\n",
       "      <td>-0.008263</td>\n",
       "      <td>-0.017210</td>\n",
       "      <td>0.000405</td>\n",
       "      <td>0.004600</td>\n",
       "      <td>...</td>\n",
       "      <td>0.053560</td>\n",
       "      <td>-0.010443</td>\n",
       "      <td>-0.008290</td>\n",
       "      <td>-0.000993</td>\n",
       "      <td>-0.014198</td>\n",
       "      <td>-0.014767</td>\n",
       "      <td>0.008295</td>\n",
       "      <td>-0.015930</td>\n",
       "      <td>0.009282</td>\n",
       "      <td>-0.004497</td>\n",
       "    </tr>\n",
       "    <tr>\n",
       "      <th>center_id</th>\n",
       "      <td>-0.003450</td>\n",
       "      <td>1.000000</td>\n",
       "      <td>0.009893</td>\n",
       "      <td>0.001348</td>\n",
       "      <td>0.000604</td>\n",
       "      <td>0.013658</td>\n",
       "      <td>-0.005043</td>\n",
       "      <td>-0.053035</td>\n",
       "      <td>0.061078</td>\n",
       "      <td>-0.003426</td>\n",
       "      <td>...</td>\n",
       "      <td>0.006638</td>\n",
       "      <td>0.007239</td>\n",
       "      <td>0.001415</td>\n",
       "      <td>-0.045336</td>\n",
       "      <td>0.000266</td>\n",
       "      <td>0.007037</td>\n",
       "      <td>0.014695</td>\n",
       "      <td>-0.029820</td>\n",
       "      <td>-0.091954</td>\n",
       "      <td>-0.061086</td>\n",
       "    </tr>\n",
       "    <tr>\n",
       "      <th>meal_id</th>\n",
       "      <td>0.019814</td>\n",
       "      <td>0.009893</td>\n",
       "      <td>1.000000</td>\n",
       "      <td>0.010748</td>\n",
       "      <td>0.002605</td>\n",
       "      <td>0.013402</td>\n",
       "      <td>0.016354</td>\n",
       "      <td>0.010597</td>\n",
       "      <td>-0.003198</td>\n",
       "      <td>-0.001662</td>\n",
       "      <td>...</td>\n",
       "      <td>0.260413</td>\n",
       "      <td>0.080984</td>\n",
       "      <td>0.084958</td>\n",
       "      <td>-0.032146</td>\n",
       "      <td>0.159467</td>\n",
       "      <td>-0.156288</td>\n",
       "      <td>0.096024</td>\n",
       "      <td>0.125012</td>\n",
       "      <td>0.004090</td>\n",
       "      <td>-0.008088</td>\n",
       "    </tr>\n",
       "    <tr>\n",
       "      <th>checkout_price</th>\n",
       "      <td>0.026581</td>\n",
       "      <td>0.001348</td>\n",
       "      <td>0.010748</td>\n",
       "      <td>1.000000</td>\n",
       "      <td>0.953389</td>\n",
       "      <td>0.004818</td>\n",
       "      <td>-0.057184</td>\n",
       "      <td>-0.282108</td>\n",
       "      <td>-0.004805</td>\n",
       "      <td>-0.003648</td>\n",
       "      <td>...</td>\n",
       "      <td>-0.069729</td>\n",
       "      <td>-0.077476</td>\n",
       "      <td>0.455558</td>\n",
       "      <td>-0.120754</td>\n",
       "      <td>-0.093482</td>\n",
       "      <td>0.031917</td>\n",
       "      <td>-0.186959</td>\n",
       "      <td>-0.459606</td>\n",
       "      <td>0.021740</td>\n",
       "      <td>-0.026378</td>\n",
       "    </tr>\n",
       "    <tr>\n",
       "      <th>base_price</th>\n",
       "      <td>0.028614</td>\n",
       "      <td>0.000604</td>\n",
       "      <td>0.002605</td>\n",
       "      <td>0.953389</td>\n",
       "      <td>1.000000</td>\n",
       "      <td>0.171173</td>\n",
       "      <td>0.057156</td>\n",
       "      <td>-0.222306</td>\n",
       "      <td>-0.002054</td>\n",
       "      <td>-0.001934</td>\n",
       "      <td>...</td>\n",
       "      <td>-0.086115</td>\n",
       "      <td>-0.085372</td>\n",
       "      <td>0.484380</td>\n",
       "      <td>-0.129056</td>\n",
       "      <td>-0.115450</td>\n",
       "      <td>0.033232</td>\n",
       "      <td>-0.202578</td>\n",
       "      <td>-0.478318</td>\n",
       "      <td>0.017395</td>\n",
       "      <td>-0.021952</td>\n",
       "    </tr>\n",
       "    <tr>\n",
       "      <th>emailer_for_promotion</th>\n",
       "      <td>-0.000841</td>\n",
       "      <td>0.013658</td>\n",
       "      <td>0.013402</td>\n",
       "      <td>0.004818</td>\n",
       "      <td>0.171173</td>\n",
       "      <td>1.000000</td>\n",
       "      <td>0.390534</td>\n",
       "      <td>0.277147</td>\n",
       "      <td>-0.005234</td>\n",
       "      <td>-0.007462</td>\n",
       "      <td>...</td>\n",
       "      <td>-0.007739</td>\n",
       "      <td>0.049495</td>\n",
       "      <td>0.094457</td>\n",
       "      <td>-0.050220</td>\n",
       "      <td>-0.034307</td>\n",
       "      <td>-0.052190</td>\n",
       "      <td>0.011145</td>\n",
       "      <td>-0.117787</td>\n",
       "      <td>-0.005064</td>\n",
       "      <td>0.008600</td>\n",
       "    </tr>\n",
       "    <tr>\n",
       "      <th>homepage_featured</th>\n",
       "      <td>-0.008263</td>\n",
       "      <td>-0.005043</td>\n",
       "      <td>0.016354</td>\n",
       "      <td>-0.057184</td>\n",
       "      <td>0.057156</td>\n",
       "      <td>0.390534</td>\n",
       "      <td>1.000000</td>\n",
       "      <td>0.294490</td>\n",
       "      <td>0.008640</td>\n",
       "      <td>0.003605</td>\n",
       "      <td>...</td>\n",
       "      <td>-0.039199</td>\n",
       "      <td>0.004285</td>\n",
       "      <td>0.025724</td>\n",
       "      <td>-0.038733</td>\n",
       "      <td>-0.030740</td>\n",
       "      <td>-0.059371</td>\n",
       "      <td>-0.049736</td>\n",
       "      <td>0.040783</td>\n",
       "      <td>0.001877</td>\n",
       "      <td>-0.030601</td>\n",
       "    </tr>\n",
       "    <tr>\n",
       "      <th>num_orders</th>\n",
       "      <td>-0.017210</td>\n",
       "      <td>-0.053035</td>\n",
       "      <td>0.010597</td>\n",
       "      <td>-0.282108</td>\n",
       "      <td>-0.222306</td>\n",
       "      <td>0.277147</td>\n",
       "      <td>0.294490</td>\n",
       "      <td>1.000000</td>\n",
       "      <td>0.041596</td>\n",
       "      <td>0.029744</td>\n",
       "      <td>...</td>\n",
       "      <td>0.079172</td>\n",
       "      <td>0.189771</td>\n",
       "      <td>-0.101768</td>\n",
       "      <td>-0.076762</td>\n",
       "      <td>-0.071327</td>\n",
       "      <td>-0.047453</td>\n",
       "      <td>0.149443</td>\n",
       "      <td>0.021724</td>\n",
       "      <td>0.073322</td>\n",
       "      <td>-0.073647</td>\n",
       "    </tr>\n",
       "    <tr>\n",
       "      <th>city_code</th>\n",
       "      <td>0.000405</td>\n",
       "      <td>0.061078</td>\n",
       "      <td>-0.003198</td>\n",
       "      <td>-0.004805</td>\n",
       "      <td>-0.002054</td>\n",
       "      <td>-0.005234</td>\n",
       "      <td>0.008640</td>\n",
       "      <td>0.041596</td>\n",
       "      <td>1.000000</td>\n",
       "      <td>0.042686</td>\n",
       "      <td>...</td>\n",
       "      <td>-0.003912</td>\n",
       "      <td>-0.003723</td>\n",
       "      <td>0.002864</td>\n",
       "      <td>0.038829</td>\n",
       "      <td>-0.004885</td>\n",
       "      <td>-0.008286</td>\n",
       "      <td>-0.009568</td>\n",
       "      <td>0.020253</td>\n",
       "      <td>0.004382</td>\n",
       "      <td>0.088261</td>\n",
       "    </tr>\n",
       "    <tr>\n",
       "      <th>region_code</th>\n",
       "      <td>0.004600</td>\n",
       "      <td>-0.003426</td>\n",
       "      <td>-0.001662</td>\n",
       "      <td>-0.003648</td>\n",
       "      <td>-0.001934</td>\n",
       "      <td>-0.007462</td>\n",
       "      <td>0.003605</td>\n",
       "      <td>0.029744</td>\n",
       "      <td>0.042686</td>\n",
       "      <td>1.000000</td>\n",
       "      <td>...</td>\n",
       "      <td>-0.002485</td>\n",
       "      <td>-0.003063</td>\n",
       "      <td>-0.000111</td>\n",
       "      <td>0.033747</td>\n",
       "      <td>-0.003075</td>\n",
       "      <td>-0.004475</td>\n",
       "      <td>-0.007721</td>\n",
       "      <td>0.021114</td>\n",
       "      <td>-0.055865</td>\n",
       "      <td>0.017814</td>\n",
       "    </tr>\n",
       "    <tr>\n",
       "      <th>op_area</th>\n",
       "      <td>0.001550</td>\n",
       "      <td>-0.111869</td>\n",
       "      <td>-0.001546</td>\n",
       "      <td>0.021569</td>\n",
       "      <td>0.018031</td>\n",
       "      <td>-0.019462</td>\n",
       "      <td>0.041498</td>\n",
       "      <td>0.176976</td>\n",
       "      <td>0.131476</td>\n",
       "      <td>0.023327</td>\n",
       "      <td>...</td>\n",
       "      <td>-0.019908</td>\n",
       "      <td>-0.022847</td>\n",
       "      <td>0.017973</td>\n",
       "      <td>0.062500</td>\n",
       "      <td>0.008052</td>\n",
       "      <td>0.006206</td>\n",
       "      <td>-0.034673</td>\n",
       "      <td>0.031982</td>\n",
       "      <td>0.358992</td>\n",
       "      <td>-0.392961</td>\n",
       "    </tr>\n",
       "    <tr>\n",
       "      <th>Biryani</th>\n",
       "      <td>-0.008556</td>\n",
       "      <td>-0.002603</td>\n",
       "      <td>-0.156270</td>\n",
       "      <td>0.168014</td>\n",
       "      <td>0.144513</td>\n",
       "      <td>-0.064625</td>\n",
       "      <td>-0.074107</td>\n",
       "      <td>-0.126996</td>\n",
       "      <td>-0.006409</td>\n",
       "      <td>0.001080</td>\n",
       "      <td>...</td>\n",
       "      <td>-0.056173</td>\n",
       "      <td>-0.060986</td>\n",
       "      <td>-0.054429</td>\n",
       "      <td>-0.036746</td>\n",
       "      <td>-0.057609</td>\n",
       "      <td>0.380029</td>\n",
       "      <td>-0.131997</td>\n",
       "      <td>-0.128540</td>\n",
       "      <td>0.027604</td>\n",
       "      <td>-0.040941</td>\n",
       "    </tr>\n",
       "    <tr>\n",
       "      <th>Desert</th>\n",
       "      <td>-0.004499</td>\n",
       "      <td>0.004251</td>\n",
       "      <td>0.035378</td>\n",
       "      <td>0.180388</td>\n",
       "      <td>0.183132</td>\n",
       "      <td>-0.018766</td>\n",
       "      <td>0.004818</td>\n",
       "      <td>-0.129376</td>\n",
       "      <td>-0.005043</td>\n",
       "      <td>-0.005579</td>\n",
       "      <td>...</td>\n",
       "      <td>-0.067640</td>\n",
       "      <td>-0.073436</td>\n",
       "      <td>-0.065540</td>\n",
       "      <td>-0.044248</td>\n",
       "      <td>-0.069369</td>\n",
       "      <td>0.457607</td>\n",
       "      <td>-0.158942</td>\n",
       "      <td>-0.154779</td>\n",
       "      <td>-0.001264</td>\n",
       "      <td>0.003695</td>\n",
       "    </tr>\n",
       "    <tr>\n",
       "      <th>Extras</th>\n",
       "      <td>-0.004189</td>\n",
       "      <td>-0.051970</td>\n",
       "      <td>-0.185007</td>\n",
       "      <td>-0.181957</td>\n",
       "      <td>-0.162458</td>\n",
       "      <td>-0.051999</td>\n",
       "      <td>-0.050424</td>\n",
       "      <td>0.014125</td>\n",
       "      <td>0.025785</td>\n",
       "      <td>0.018054</td>\n",
       "      <td>...</td>\n",
       "      <td>-0.045198</td>\n",
       "      <td>-0.049071</td>\n",
       "      <td>-0.043795</td>\n",
       "      <td>-0.029567</td>\n",
       "      <td>-0.046354</td>\n",
       "      <td>-0.100120</td>\n",
       "      <td>-0.106208</td>\n",
       "      <td>0.296006</td>\n",
       "      <td>0.001036</td>\n",
       "      <td>-0.008543</td>\n",
       "    </tr>\n",
       "    <tr>\n",
       "      <th>Fish</th>\n",
       "      <td>0.114410</td>\n",
       "      <td>-0.003596</td>\n",
       "      <td>0.033455</td>\n",
       "      <td>0.243738</td>\n",
       "      <td>0.228212</td>\n",
       "      <td>-0.037239</td>\n",
       "      <td>-0.033494</td>\n",
       "      <td>-0.067262</td>\n",
       "      <td>-0.000484</td>\n",
       "      <td>-0.014187</td>\n",
       "      <td>...</td>\n",
       "      <td>-0.039024</td>\n",
       "      <td>-0.042368</td>\n",
       "      <td>-0.037813</td>\n",
       "      <td>-0.025528</td>\n",
       "      <td>-0.040022</td>\n",
       "      <td>-0.086444</td>\n",
       "      <td>-0.091701</td>\n",
       "      <td>-0.089299</td>\n",
       "      <td>0.028302</td>\n",
       "      <td>-0.043386</td>\n",
       "    </tr>\n",
       "    <tr>\n",
       "      <th>Other Snacks</th>\n",
       "      <td>-0.000548</td>\n",
       "      <td>0.004673</td>\n",
       "      <td>0.154997</td>\n",
       "      <td>-0.127074</td>\n",
       "      <td>-0.131800</td>\n",
       "      <td>-0.056591</td>\n",
       "      <td>0.045816</td>\n",
       "      <td>-0.065998</td>\n",
       "      <td>-0.001230</td>\n",
       "      <td>0.003160</td>\n",
       "      <td>...</td>\n",
       "      <td>-0.067744</td>\n",
       "      <td>-0.073550</td>\n",
       "      <td>-0.065641</td>\n",
       "      <td>-0.044316</td>\n",
       "      <td>-0.069476</td>\n",
       "      <td>-0.150062</td>\n",
       "      <td>-0.159188</td>\n",
       "      <td>0.443662</td>\n",
       "      <td>0.002810</td>\n",
       "      <td>-0.012338</td>\n",
       "    </tr>\n",
       "    <tr>\n",
       "      <th>Pasta</th>\n",
       "      <td>-0.015443</td>\n",
       "      <td>0.004990</td>\n",
       "      <td>-0.075666</td>\n",
       "      <td>0.105384</td>\n",
       "      <td>0.116831</td>\n",
       "      <td>0.014166</td>\n",
       "      <td>0.022972</td>\n",
       "      <td>-0.130124</td>\n",
       "      <td>-0.005636</td>\n",
       "      <td>-0.005467</td>\n",
       "      <td>...</td>\n",
       "      <td>-0.065644</td>\n",
       "      <td>-0.071269</td>\n",
       "      <td>-0.063606</td>\n",
       "      <td>-0.042942</td>\n",
       "      <td>-0.067322</td>\n",
       "      <td>-0.145409</td>\n",
       "      <td>0.418645</td>\n",
       "      <td>-0.150212</td>\n",
       "      <td>0.004209</td>\n",
       "      <td>-0.006472</td>\n",
       "    </tr>\n",
       "    <tr>\n",
       "      <th>Pizza</th>\n",
       "      <td>-0.010517</td>\n",
       "      <td>0.007297</td>\n",
       "      <td>0.005602</td>\n",
       "      <td>0.460531</td>\n",
       "      <td>0.504122</td>\n",
       "      <td>0.206914</td>\n",
       "      <td>0.107388</td>\n",
       "      <td>-0.027597</td>\n",
       "      <td>-0.003940</td>\n",
       "      <td>-0.003024</td>\n",
       "      <td>...</td>\n",
       "      <td>-0.072267</td>\n",
       "      <td>-0.078459</td>\n",
       "      <td>-0.070023</td>\n",
       "      <td>-0.047275</td>\n",
       "      <td>-0.074114</td>\n",
       "      <td>-0.160080</td>\n",
       "      <td>-0.169814</td>\n",
       "      <td>-0.165367</td>\n",
       "      <td>-0.008417</td>\n",
       "      <td>0.018585</td>\n",
       "    </tr>\n",
       "    <tr>\n",
       "      <th>Rice Bowl</th>\n",
       "      <td>-0.011077</td>\n",
       "      <td>0.007113</td>\n",
       "      <td>-0.161994</td>\n",
       "      <td>-0.027020</td>\n",
       "      <td>-0.025823</td>\n",
       "      <td>0.011546</td>\n",
       "      <td>-0.018611</td>\n",
       "      <td>0.257584</td>\n",
       "      <td>-0.003897</td>\n",
       "      <td>-0.002913</td>\n",
       "      <td>...</td>\n",
       "      <td>-0.072584</td>\n",
       "      <td>-0.078803</td>\n",
       "      <td>-0.070330</td>\n",
       "      <td>-0.047482</td>\n",
       "      <td>-0.074439</td>\n",
       "      <td>0.491054</td>\n",
       "      <td>-0.170559</td>\n",
       "      <td>-0.166092</td>\n",
       "      <td>-0.009022</td>\n",
       "      <td>0.019658</td>\n",
       "    </tr>\n",
       "    <tr>\n",
       "      <th>Salad</th>\n",
       "      <td>0.053560</td>\n",
       "      <td>0.006638</td>\n",
       "      <td>0.260413</td>\n",
       "      <td>-0.069729</td>\n",
       "      <td>-0.086115</td>\n",
       "      <td>-0.007739</td>\n",
       "      <td>-0.039199</td>\n",
       "      <td>0.079172</td>\n",
       "      <td>-0.003912</td>\n",
       "      <td>-0.002485</td>\n",
       "      <td>...</td>\n",
       "      <td>1.000000</td>\n",
       "      <td>-0.072446</td>\n",
       "      <td>-0.064656</td>\n",
       "      <td>-0.043652</td>\n",
       "      <td>-0.068434</td>\n",
       "      <td>-0.147812</td>\n",
       "      <td>0.425562</td>\n",
       "      <td>-0.152694</td>\n",
       "      <td>-0.006949</td>\n",
       "      <td>0.015704</td>\n",
       "    </tr>\n",
       "    <tr>\n",
       "      <th>Sandwich</th>\n",
       "      <td>-0.010443</td>\n",
       "      <td>0.007239</td>\n",
       "      <td>0.080984</td>\n",
       "      <td>-0.077476</td>\n",
       "      <td>-0.085372</td>\n",
       "      <td>0.049495</td>\n",
       "      <td>0.004285</td>\n",
       "      <td>0.189771</td>\n",
       "      <td>-0.003723</td>\n",
       "      <td>-0.003063</td>\n",
       "      <td>...</td>\n",
       "      <td>-0.072446</td>\n",
       "      <td>1.000000</td>\n",
       "      <td>-0.070197</td>\n",
       "      <td>-0.047392</td>\n",
       "      <td>-0.074299</td>\n",
       "      <td>-0.160478</td>\n",
       "      <td>0.462029</td>\n",
       "      <td>-0.165778</td>\n",
       "      <td>-0.008847</td>\n",
       "      <td>0.018619</td>\n",
       "    </tr>\n",
       "    <tr>\n",
       "      <th>Seafood</th>\n",
       "      <td>-0.008290</td>\n",
       "      <td>0.001415</td>\n",
       "      <td>0.084958</td>\n",
       "      <td>0.455558</td>\n",
       "      <td>0.484380</td>\n",
       "      <td>0.094457</td>\n",
       "      <td>0.025724</td>\n",
       "      <td>-0.101768</td>\n",
       "      <td>0.002864</td>\n",
       "      <td>-0.000111</td>\n",
       "      <td>...</td>\n",
       "      <td>-0.064656</td>\n",
       "      <td>-0.070197</td>\n",
       "      <td>1.000000</td>\n",
       "      <td>-0.042296</td>\n",
       "      <td>-0.066310</td>\n",
       "      <td>-0.143222</td>\n",
       "      <td>-0.151932</td>\n",
       "      <td>-0.147953</td>\n",
       "      <td>0.012089</td>\n",
       "      <td>-0.021922</td>\n",
       "    </tr>\n",
       "    <tr>\n",
       "      <th>Soup</th>\n",
       "      <td>-0.000993</td>\n",
       "      <td>-0.045336</td>\n",
       "      <td>-0.032146</td>\n",
       "      <td>-0.120754</td>\n",
       "      <td>-0.129056</td>\n",
       "      <td>-0.050220</td>\n",
       "      <td>-0.038733</td>\n",
       "      <td>-0.076762</td>\n",
       "      <td>0.038829</td>\n",
       "      <td>0.033747</td>\n",
       "      <td>...</td>\n",
       "      <td>-0.043652</td>\n",
       "      <td>-0.047392</td>\n",
       "      <td>-0.042296</td>\n",
       "      <td>1.000000</td>\n",
       "      <td>-0.044768</td>\n",
       "      <td>-0.096694</td>\n",
       "      <td>-0.102574</td>\n",
       "      <td>0.285876</td>\n",
       "      <td>0.008282</td>\n",
       "      <td>-0.018690</td>\n",
       "    </tr>\n",
       "    <tr>\n",
       "      <th>Starters</th>\n",
       "      <td>-0.014198</td>\n",
       "      <td>0.000266</td>\n",
       "      <td>0.159467</td>\n",
       "      <td>-0.093482</td>\n",
       "      <td>-0.115450</td>\n",
       "      <td>-0.034307</td>\n",
       "      <td>-0.030740</td>\n",
       "      <td>-0.071327</td>\n",
       "      <td>-0.004885</td>\n",
       "      <td>-0.003075</td>\n",
       "      <td>...</td>\n",
       "      <td>-0.068434</td>\n",
       "      <td>-0.074299</td>\n",
       "      <td>-0.066310</td>\n",
       "      <td>-0.044768</td>\n",
       "      <td>1.000000</td>\n",
       "      <td>-0.151591</td>\n",
       "      <td>-0.160809</td>\n",
       "      <td>0.448180</td>\n",
       "      <td>0.005239</td>\n",
       "      <td>-0.015328</td>\n",
       "    </tr>\n",
       "    <tr>\n",
       "      <th>Indian</th>\n",
       "      <td>-0.014767</td>\n",
       "      <td>0.007037</td>\n",
       "      <td>-0.156288</td>\n",
       "      <td>0.031917</td>\n",
       "      <td>0.033232</td>\n",
       "      <td>-0.052190</td>\n",
       "      <td>-0.059371</td>\n",
       "      <td>-0.047453</td>\n",
       "      <td>-0.008286</td>\n",
       "      <td>-0.004475</td>\n",
       "      <td>...</td>\n",
       "      <td>-0.147812</td>\n",
       "      <td>-0.160478</td>\n",
       "      <td>-0.143222</td>\n",
       "      <td>-0.096694</td>\n",
       "      <td>-0.151591</td>\n",
       "      <td>1.000000</td>\n",
       "      <td>-0.347333</td>\n",
       "      <td>-0.338236</td>\n",
       "      <td>0.004067</td>\n",
       "      <td>-0.005556</td>\n",
       "    </tr>\n",
       "    <tr>\n",
       "      <th>Italian</th>\n",
       "      <td>0.008295</td>\n",
       "      <td>0.014695</td>\n",
       "      <td>0.096024</td>\n",
       "      <td>-0.186959</td>\n",
       "      <td>-0.202578</td>\n",
       "      <td>0.011145</td>\n",
       "      <td>-0.049736</td>\n",
       "      <td>0.149443</td>\n",
       "      <td>-0.009568</td>\n",
       "      <td>-0.007721</td>\n",
       "      <td>...</td>\n",
       "      <td>0.425562</td>\n",
       "      <td>0.462029</td>\n",
       "      <td>-0.151932</td>\n",
       "      <td>-0.102574</td>\n",
       "      <td>-0.160809</td>\n",
       "      <td>-0.347333</td>\n",
       "      <td>1.000000</td>\n",
       "      <td>-0.358805</td>\n",
       "      <td>-0.011980</td>\n",
       "      <td>0.027390</td>\n",
       "    </tr>\n",
       "    <tr>\n",
       "      <th>Thai</th>\n",
       "      <td>-0.015930</td>\n",
       "      <td>-0.029820</td>\n",
       "      <td>0.125012</td>\n",
       "      <td>-0.459606</td>\n",
       "      <td>-0.478318</td>\n",
       "      <td>-0.117787</td>\n",
       "      <td>0.040783</td>\n",
       "      <td>0.021724</td>\n",
       "      <td>0.020253</td>\n",
       "      <td>0.021114</td>\n",
       "      <td>...</td>\n",
       "      <td>-0.152694</td>\n",
       "      <td>-0.165778</td>\n",
       "      <td>-0.147953</td>\n",
       "      <td>0.285876</td>\n",
       "      <td>0.448180</td>\n",
       "      <td>-0.338236</td>\n",
       "      <td>-0.358805</td>\n",
       "      <td>1.000000</td>\n",
       "      <td>0.002361</td>\n",
       "      <td>-0.016322</td>\n",
       "    </tr>\n",
       "    <tr>\n",
       "      <th>TYPE_B</th>\n",
       "      <td>0.009282</td>\n",
       "      <td>-0.091954</td>\n",
       "      <td>0.004090</td>\n",
       "      <td>0.021740</td>\n",
       "      <td>0.017395</td>\n",
       "      <td>-0.005064</td>\n",
       "      <td>0.001877</td>\n",
       "      <td>0.073322</td>\n",
       "      <td>0.004382</td>\n",
       "      <td>-0.055865</td>\n",
       "      <td>...</td>\n",
       "      <td>-0.006949</td>\n",
       "      <td>-0.008847</td>\n",
       "      <td>0.012089</td>\n",
       "      <td>0.008282</td>\n",
       "      <td>0.005239</td>\n",
       "      <td>0.004067</td>\n",
       "      <td>-0.011980</td>\n",
       "      <td>0.002361</td>\n",
       "      <td>1.000000</td>\n",
       "      <td>-0.269094</td>\n",
       "    </tr>\n",
       "    <tr>\n",
       "      <th>TYPE_C</th>\n",
       "      <td>-0.004497</td>\n",
       "      <td>-0.061086</td>\n",
       "      <td>-0.008088</td>\n",
       "      <td>-0.026378</td>\n",
       "      <td>-0.021952</td>\n",
       "      <td>0.008600</td>\n",
       "      <td>-0.030601</td>\n",
       "      <td>-0.073647</td>\n",
       "      <td>0.088261</td>\n",
       "      <td>0.017814</td>\n",
       "      <td>...</td>\n",
       "      <td>0.015704</td>\n",
       "      <td>0.018619</td>\n",
       "      <td>-0.021922</td>\n",
       "      <td>-0.018690</td>\n",
       "      <td>-0.015328</td>\n",
       "      <td>-0.005556</td>\n",
       "      <td>0.027390</td>\n",
       "      <td>-0.016322</td>\n",
       "      <td>-0.269094</td>\n",
       "      <td>1.000000</td>\n",
       "    </tr>\n",
       "  </tbody>\n",
       "</table>\n",
       "<p>29 rows × 29 columns</p>\n",
       "</div>"
      ],
      "text/plain": [
       "                           week  center_id   meal_id  checkout_price  \\\n",
       "week                   1.000000  -0.003450  0.019814        0.026581   \n",
       "center_id             -0.003450   1.000000  0.009893        0.001348   \n",
       "meal_id                0.019814   0.009893  1.000000        0.010748   \n",
       "checkout_price         0.026581   0.001348  0.010748        1.000000   \n",
       "base_price             0.028614   0.000604  0.002605        0.953389   \n",
       "emailer_for_promotion -0.000841   0.013658  0.013402        0.004818   \n",
       "homepage_featured     -0.008263  -0.005043  0.016354       -0.057184   \n",
       "num_orders            -0.017210  -0.053035  0.010597       -0.282108   \n",
       "city_code              0.000405   0.061078 -0.003198       -0.004805   \n",
       "region_code            0.004600  -0.003426 -0.001662       -0.003648   \n",
       "op_area                0.001550  -0.111869 -0.001546        0.021569   \n",
       "Biryani               -0.008556  -0.002603 -0.156270        0.168014   \n",
       "Desert                -0.004499   0.004251  0.035378        0.180388   \n",
       "Extras                -0.004189  -0.051970 -0.185007       -0.181957   \n",
       "Fish                   0.114410  -0.003596  0.033455        0.243738   \n",
       "Other Snacks          -0.000548   0.004673  0.154997       -0.127074   \n",
       "Pasta                 -0.015443   0.004990 -0.075666        0.105384   \n",
       "Pizza                 -0.010517   0.007297  0.005602        0.460531   \n",
       "Rice Bowl             -0.011077   0.007113 -0.161994       -0.027020   \n",
       "Salad                  0.053560   0.006638  0.260413       -0.069729   \n",
       "Sandwich              -0.010443   0.007239  0.080984       -0.077476   \n",
       "Seafood               -0.008290   0.001415  0.084958        0.455558   \n",
       "Soup                  -0.000993  -0.045336 -0.032146       -0.120754   \n",
       "Starters              -0.014198   0.000266  0.159467       -0.093482   \n",
       "Indian                -0.014767   0.007037 -0.156288        0.031917   \n",
       "Italian                0.008295   0.014695  0.096024       -0.186959   \n",
       "Thai                  -0.015930  -0.029820  0.125012       -0.459606   \n",
       "TYPE_B                 0.009282  -0.091954  0.004090        0.021740   \n",
       "TYPE_C                -0.004497  -0.061086 -0.008088       -0.026378   \n",
       "\n",
       "                       base_price  emailer_for_promotion  homepage_featured  \\\n",
       "week                     0.028614              -0.000841          -0.008263   \n",
       "center_id                0.000604               0.013658          -0.005043   \n",
       "meal_id                  0.002605               0.013402           0.016354   \n",
       "checkout_price           0.953389               0.004818          -0.057184   \n",
       "base_price               1.000000               0.171173           0.057156   \n",
       "emailer_for_promotion    0.171173               1.000000           0.390534   \n",
       "homepage_featured        0.057156               0.390534           1.000000   \n",
       "num_orders              -0.222306               0.277147           0.294490   \n",
       "city_code               -0.002054              -0.005234           0.008640   \n",
       "region_code             -0.001934              -0.007462           0.003605   \n",
       "op_area                  0.018031              -0.019462           0.041498   \n",
       "Biryani                  0.144513              -0.064625          -0.074107   \n",
       "Desert                   0.183132              -0.018766           0.004818   \n",
       "Extras                  -0.162458              -0.051999          -0.050424   \n",
       "Fish                     0.228212              -0.037239          -0.033494   \n",
       "Other Snacks            -0.131800              -0.056591           0.045816   \n",
       "Pasta                    0.116831               0.014166           0.022972   \n",
       "Pizza                    0.504122               0.206914           0.107388   \n",
       "Rice Bowl               -0.025823               0.011546          -0.018611   \n",
       "Salad                   -0.086115              -0.007739          -0.039199   \n",
       "Sandwich                -0.085372               0.049495           0.004285   \n",
       "Seafood                  0.484380               0.094457           0.025724   \n",
       "Soup                    -0.129056              -0.050220          -0.038733   \n",
       "Starters                -0.115450              -0.034307          -0.030740   \n",
       "Indian                   0.033232              -0.052190          -0.059371   \n",
       "Italian                 -0.202578               0.011145          -0.049736   \n",
       "Thai                    -0.478318              -0.117787           0.040783   \n",
       "TYPE_B                   0.017395              -0.005064           0.001877   \n",
       "TYPE_C                  -0.021952               0.008600          -0.030601   \n",
       "\n",
       "                       num_orders  city_code  region_code  ...     Salad  \\\n",
       "week                    -0.017210   0.000405     0.004600  ...  0.053560   \n",
       "center_id               -0.053035   0.061078    -0.003426  ...  0.006638   \n",
       "meal_id                  0.010597  -0.003198    -0.001662  ...  0.260413   \n",
       "checkout_price          -0.282108  -0.004805    -0.003648  ... -0.069729   \n",
       "base_price              -0.222306  -0.002054    -0.001934  ... -0.086115   \n",
       "emailer_for_promotion    0.277147  -0.005234    -0.007462  ... -0.007739   \n",
       "homepage_featured        0.294490   0.008640     0.003605  ... -0.039199   \n",
       "num_orders               1.000000   0.041596     0.029744  ...  0.079172   \n",
       "city_code                0.041596   1.000000     0.042686  ... -0.003912   \n",
       "region_code              0.029744   0.042686     1.000000  ... -0.002485   \n",
       "op_area                  0.176976   0.131476     0.023327  ... -0.019908   \n",
       "Biryani                 -0.126996  -0.006409     0.001080  ... -0.056173   \n",
       "Desert                  -0.129376  -0.005043    -0.005579  ... -0.067640   \n",
       "Extras                   0.014125   0.025785     0.018054  ... -0.045198   \n",
       "Fish                    -0.067262  -0.000484    -0.014187  ... -0.039024   \n",
       "Other Snacks            -0.065998  -0.001230     0.003160  ... -0.067744   \n",
       "Pasta                   -0.130124  -0.005636    -0.005467  ... -0.065644   \n",
       "Pizza                   -0.027597  -0.003940    -0.003024  ... -0.072267   \n",
       "Rice Bowl                0.257584  -0.003897    -0.002913  ... -0.072584   \n",
       "Salad                    0.079172  -0.003912    -0.002485  ...  1.000000   \n",
       "Sandwich                 0.189771  -0.003723    -0.003063  ... -0.072446   \n",
       "Seafood                 -0.101768   0.002864    -0.000111  ... -0.064656   \n",
       "Soup                    -0.076762   0.038829     0.033747  ... -0.043652   \n",
       "Starters                -0.071327  -0.004885    -0.003075  ... -0.068434   \n",
       "Indian                  -0.047453  -0.008286    -0.004475  ... -0.147812   \n",
       "Italian                  0.149443  -0.009568    -0.007721  ...  0.425562   \n",
       "Thai                     0.021724   0.020253     0.021114  ... -0.152694   \n",
       "TYPE_B                   0.073322   0.004382    -0.055865  ... -0.006949   \n",
       "TYPE_C                  -0.073647   0.088261     0.017814  ...  0.015704   \n",
       "\n",
       "                       Sandwich   Seafood      Soup  Starters    Indian  \\\n",
       "week                  -0.010443 -0.008290 -0.000993 -0.014198 -0.014767   \n",
       "center_id              0.007239  0.001415 -0.045336  0.000266  0.007037   \n",
       "meal_id                0.080984  0.084958 -0.032146  0.159467 -0.156288   \n",
       "checkout_price        -0.077476  0.455558 -0.120754 -0.093482  0.031917   \n",
       "base_price            -0.085372  0.484380 -0.129056 -0.115450  0.033232   \n",
       "emailer_for_promotion  0.049495  0.094457 -0.050220 -0.034307 -0.052190   \n",
       "homepage_featured      0.004285  0.025724 -0.038733 -0.030740 -0.059371   \n",
       "num_orders             0.189771 -0.101768 -0.076762 -0.071327 -0.047453   \n",
       "city_code             -0.003723  0.002864  0.038829 -0.004885 -0.008286   \n",
       "region_code           -0.003063 -0.000111  0.033747 -0.003075 -0.004475   \n",
       "op_area               -0.022847  0.017973  0.062500  0.008052  0.006206   \n",
       "Biryani               -0.060986 -0.054429 -0.036746 -0.057609  0.380029   \n",
       "Desert                -0.073436 -0.065540 -0.044248 -0.069369  0.457607   \n",
       "Extras                -0.049071 -0.043795 -0.029567 -0.046354 -0.100120   \n",
       "Fish                  -0.042368 -0.037813 -0.025528 -0.040022 -0.086444   \n",
       "Other Snacks          -0.073550 -0.065641 -0.044316 -0.069476 -0.150062   \n",
       "Pasta                 -0.071269 -0.063606 -0.042942 -0.067322 -0.145409   \n",
       "Pizza                 -0.078459 -0.070023 -0.047275 -0.074114 -0.160080   \n",
       "Rice Bowl             -0.078803 -0.070330 -0.047482 -0.074439  0.491054   \n",
       "Salad                 -0.072446 -0.064656 -0.043652 -0.068434 -0.147812   \n",
       "Sandwich               1.000000 -0.070197 -0.047392 -0.074299 -0.160478   \n",
       "Seafood               -0.070197  1.000000 -0.042296 -0.066310 -0.143222   \n",
       "Soup                  -0.047392 -0.042296  1.000000 -0.044768 -0.096694   \n",
       "Starters              -0.074299 -0.066310 -0.044768  1.000000 -0.151591   \n",
       "Indian                -0.160478 -0.143222 -0.096694 -0.151591  1.000000   \n",
       "Italian                0.462029 -0.151932 -0.102574 -0.160809 -0.347333   \n",
       "Thai                  -0.165778 -0.147953  0.285876  0.448180 -0.338236   \n",
       "TYPE_B                -0.008847  0.012089  0.008282  0.005239  0.004067   \n",
       "TYPE_C                 0.018619 -0.021922 -0.018690 -0.015328 -0.005556   \n",
       "\n",
       "                        Italian      Thai    TYPE_B    TYPE_C  \n",
       "week                   0.008295 -0.015930  0.009282 -0.004497  \n",
       "center_id              0.014695 -0.029820 -0.091954 -0.061086  \n",
       "meal_id                0.096024  0.125012  0.004090 -0.008088  \n",
       "checkout_price        -0.186959 -0.459606  0.021740 -0.026378  \n",
       "base_price            -0.202578 -0.478318  0.017395 -0.021952  \n",
       "emailer_for_promotion  0.011145 -0.117787 -0.005064  0.008600  \n",
       "homepage_featured     -0.049736  0.040783  0.001877 -0.030601  \n",
       "num_orders             0.149443  0.021724  0.073322 -0.073647  \n",
       "city_code             -0.009568  0.020253  0.004382  0.088261  \n",
       "region_code           -0.007721  0.021114 -0.055865  0.017814  \n",
       "op_area               -0.034673  0.031982  0.358992 -0.392961  \n",
       "Biryani               -0.131997 -0.128540  0.027604 -0.040941  \n",
       "Desert                -0.158942 -0.154779 -0.001264  0.003695  \n",
       "Extras                -0.106208  0.296006  0.001036 -0.008543  \n",
       "Fish                  -0.091701 -0.089299  0.028302 -0.043386  \n",
       "Other Snacks          -0.159188  0.443662  0.002810 -0.012338  \n",
       "Pasta                  0.418645 -0.150212  0.004209 -0.006472  \n",
       "Pizza                 -0.169814 -0.165367 -0.008417  0.018585  \n",
       "Rice Bowl             -0.170559 -0.166092 -0.009022  0.019658  \n",
       "Salad                  0.425562 -0.152694 -0.006949  0.015704  \n",
       "Sandwich               0.462029 -0.165778 -0.008847  0.018619  \n",
       "Seafood               -0.151932 -0.147953  0.012089 -0.021922  \n",
       "Soup                  -0.102574  0.285876  0.008282 -0.018690  \n",
       "Starters              -0.160809  0.448180  0.005239 -0.015328  \n",
       "Indian                -0.347333 -0.338236  0.004067 -0.005556  \n",
       "Italian                1.000000 -0.358805 -0.011980  0.027390  \n",
       "Thai                  -0.358805  1.000000  0.002361 -0.016322  \n",
       "TYPE_B                -0.011980  0.002361  1.000000 -0.269094  \n",
       "TYPE_C                 0.027390 -0.016322 -0.269094  1.000000  \n",
       "\n",
       "[29 rows x 29 columns]"
      ]
     },
     "execution_count": 28,
     "metadata": {},
     "output_type": "execute_result"
    }
   ],
   "source": [
    "corr"
   ]
  },
  {
   "cell_type": "code",
   "execution_count": 29,
   "metadata": {
    "scrolled": true
   },
   "outputs": [],
   "source": [
    "def dropping_col(data,col_to_drop):\n",
    "    data.drop(col_to_drop,inplace = True, axis = 1 )\n",
    "    \n",
    "dropping_col(train,'base_price')  #this feature does not seem relevant conidering the presence of 'checkout price' , hence i have dropped this\n",
    "dropping_col(test,'base_price')"
   ]
  },
  {
   "cell_type": "markdown",
   "metadata": {},
   "source": [
    "## Creating Clusters (KMeans Labels)"
   ]
  },
  {
   "cell_type": "code",
   "execution_count": 30,
   "metadata": {},
   "outputs": [],
   "source": [
    "from sklearn.cluster import KMeans \n",
    "\n",
    "def create_clusters(data):\n",
    "    kmeans = KMeans(n_clusters=5)\n",
    "    kmeans.fit(data)\n",
    "    return kmeans.labels_\n",
    "\n",
    "train['labels']=create_clusters(train)\n",
    "test['labels']=create_clusters(test)\n"
   ]
  },
  {
   "cell_type": "markdown",
   "metadata": {},
   "source": [
    "## We will divide our train data set further into two more parts i.e train set and validation set.\n",
    "(A validation set is the set on which we test our model , after successful ttraining and analysis on train set.)\n"
   ]
  },
  {
   "cell_type": "code",
   "execution_count": 31,
   "metadata": {
    "scrolled": true
   },
   "outputs": [],
   "source": [
    "def train_val_split(data):\n",
    "    train,val= train_test_split(data,test_size =0.2, random_state=112)\n",
    "    return train,val\n",
    "\n",
    "train,val = train_val_split(train)"
   ]
  },
  {
   "cell_type": "code",
   "execution_count": 32,
   "metadata": {
    "scrolled": true
   },
   "outputs": [],
   "source": [
    "def x_y_split(data,target_var):                     \n",
    "    x = data.drop(target_var , axis = 1 )\n",
    "    y = data[target_var]\n",
    "    return x , y\n",
    "\n",
    "x_train , y_train = x_y_split(train,'num_orders')\n",
    "x_val , y_val = x_y_split(val,'num_orders')"
   ]
  },
  {
   "cell_type": "code",
   "execution_count": 33,
   "metadata": {
    "scrolled": true
   },
   "outputs": [
    {
     "data": {
      "text/html": [
       "<div>\n",
       "<style scoped>\n",
       "    .dataframe tbody tr th:only-of-type {\n",
       "        vertical-align: middle;\n",
       "    }\n",
       "\n",
       "    .dataframe tbody tr th {\n",
       "        vertical-align: top;\n",
       "    }\n",
       "\n",
       "    .dataframe thead th {\n",
       "        text-align: right;\n",
       "    }\n",
       "</style>\n",
       "<table border=\"1\" class=\"dataframe\">\n",
       "  <thead>\n",
       "    <tr style=\"text-align: right;\">\n",
       "      <th></th>\n",
       "      <th>week</th>\n",
       "      <th>center_id</th>\n",
       "      <th>meal_id</th>\n",
       "      <th>checkout_price</th>\n",
       "      <th>emailer_for_promotion</th>\n",
       "      <th>homepage_featured</th>\n",
       "      <th>city_code</th>\n",
       "      <th>region_code</th>\n",
       "      <th>op_area</th>\n",
       "      <th>Biryani</th>\n",
       "      <th>...</th>\n",
       "      <th>Sandwich</th>\n",
       "      <th>Seafood</th>\n",
       "      <th>Soup</th>\n",
       "      <th>Starters</th>\n",
       "      <th>Indian</th>\n",
       "      <th>Italian</th>\n",
       "      <th>Thai</th>\n",
       "      <th>TYPE_B</th>\n",
       "      <th>TYPE_C</th>\n",
       "      <th>labels</th>\n",
       "    </tr>\n",
       "    <tr>\n",
       "      <th>id</th>\n",
       "      <th></th>\n",
       "      <th></th>\n",
       "      <th></th>\n",
       "      <th></th>\n",
       "      <th></th>\n",
       "      <th></th>\n",
       "      <th></th>\n",
       "      <th></th>\n",
       "      <th></th>\n",
       "      <th></th>\n",
       "      <th></th>\n",
       "      <th></th>\n",
       "      <th></th>\n",
       "      <th></th>\n",
       "      <th></th>\n",
       "      <th></th>\n",
       "      <th></th>\n",
       "      <th></th>\n",
       "      <th></th>\n",
       "      <th></th>\n",
       "      <th></th>\n",
       "    </tr>\n",
       "  </thead>\n",
       "  <tbody>\n",
       "    <tr>\n",
       "      <th>1111132</th>\n",
       "      <td>145</td>\n",
       "      <td>145</td>\n",
       "      <td>2126</td>\n",
       "      <td>437.53</td>\n",
       "      <td>0</td>\n",
       "      <td>0</td>\n",
       "      <td>620</td>\n",
       "      <td>77</td>\n",
       "      <td>3.9</td>\n",
       "      <td>0</td>\n",
       "      <td>...</td>\n",
       "      <td>0</td>\n",
       "      <td>0</td>\n",
       "      <td>0</td>\n",
       "      <td>0</td>\n",
       "      <td>0</td>\n",
       "      <td>1</td>\n",
       "      <td>0</td>\n",
       "      <td>0</td>\n",
       "      <td>0</td>\n",
       "      <td>1</td>\n",
       "    </tr>\n",
       "    <tr>\n",
       "      <th>1272384</th>\n",
       "      <td>64</td>\n",
       "      <td>53</td>\n",
       "      <td>2707</td>\n",
       "      <td>193.06</td>\n",
       "      <td>0</td>\n",
       "      <td>0</td>\n",
       "      <td>590</td>\n",
       "      <td>56</td>\n",
       "      <td>3.8</td>\n",
       "      <td>0</td>\n",
       "      <td>...</td>\n",
       "      <td>0</td>\n",
       "      <td>0</td>\n",
       "      <td>0</td>\n",
       "      <td>0</td>\n",
       "      <td>0</td>\n",
       "      <td>1</td>\n",
       "      <td>0</td>\n",
       "      <td>0</td>\n",
       "      <td>0</td>\n",
       "      <td>4</td>\n",
       "    </tr>\n",
       "    <tr>\n",
       "      <th>1127287</th>\n",
       "      <td>75</td>\n",
       "      <td>101</td>\n",
       "      <td>2290</td>\n",
       "      <td>309.49</td>\n",
       "      <td>0</td>\n",
       "      <td>0</td>\n",
       "      <td>699</td>\n",
       "      <td>85</td>\n",
       "      <td>2.8</td>\n",
       "      <td>0</td>\n",
       "      <td>...</td>\n",
       "      <td>0</td>\n",
       "      <td>0</td>\n",
       "      <td>0</td>\n",
       "      <td>0</td>\n",
       "      <td>1</td>\n",
       "      <td>0</td>\n",
       "      <td>0</td>\n",
       "      <td>0</td>\n",
       "      <td>1</td>\n",
       "      <td>4</td>\n",
       "    </tr>\n",
       "    <tr>\n",
       "      <th>1283482</th>\n",
       "      <td>46</td>\n",
       "      <td>26</td>\n",
       "      <td>2826</td>\n",
       "      <td>242.50</td>\n",
       "      <td>1</td>\n",
       "      <td>0</td>\n",
       "      <td>515</td>\n",
       "      <td>77</td>\n",
       "      <td>3.0</td>\n",
       "      <td>0</td>\n",
       "      <td>...</td>\n",
       "      <td>1</td>\n",
       "      <td>0</td>\n",
       "      <td>0</td>\n",
       "      <td>0</td>\n",
       "      <td>0</td>\n",
       "      <td>1</td>\n",
       "      <td>0</td>\n",
       "      <td>0</td>\n",
       "      <td>1</td>\n",
       "      <td>4</td>\n",
       "    </tr>\n",
       "    <tr>\n",
       "      <th>1261045</th>\n",
       "      <td>136</td>\n",
       "      <td>67</td>\n",
       "      <td>2704</td>\n",
       "      <td>321.13</td>\n",
       "      <td>0</td>\n",
       "      <td>0</td>\n",
       "      <td>638</td>\n",
       "      <td>56</td>\n",
       "      <td>7.0</td>\n",
       "      <td>0</td>\n",
       "      <td>...</td>\n",
       "      <td>0</td>\n",
       "      <td>0</td>\n",
       "      <td>0</td>\n",
       "      <td>0</td>\n",
       "      <td>0</td>\n",
       "      <td>0</td>\n",
       "      <td>1</td>\n",
       "      <td>1</td>\n",
       "      <td>0</td>\n",
       "      <td>4</td>\n",
       "    </tr>\n",
       "  </tbody>\n",
       "</table>\n",
       "<p>5 rows × 28 columns</p>\n",
       "</div>"
      ],
      "text/plain": [
       "         week  center_id  meal_id  checkout_price  emailer_for_promotion  \\\n",
       "id                                                                         \n",
       "1111132   145        145     2126          437.53                      0   \n",
       "1272384    64         53     2707          193.06                      0   \n",
       "1127287    75        101     2290          309.49                      0   \n",
       "1283482    46         26     2826          242.50                      1   \n",
       "1261045   136         67     2704          321.13                      0   \n",
       "\n",
       "         homepage_featured  city_code  region_code  op_area  Biryani  ...  \\\n",
       "id                                                                    ...   \n",
       "1111132                  0        620           77      3.9        0  ...   \n",
       "1272384                  0        590           56      3.8        0  ...   \n",
       "1127287                  0        699           85      2.8        0  ...   \n",
       "1283482                  0        515           77      3.0        0  ...   \n",
       "1261045                  0        638           56      7.0        0  ...   \n",
       "\n",
       "         Sandwich  Seafood  Soup  Starters  Indian  Italian  Thai  TYPE_B  \\\n",
       "id                                                                          \n",
       "1111132         0        0     0         0       0        1     0       0   \n",
       "1272384         0        0     0         0       0        1     0       0   \n",
       "1127287         0        0     0         0       1        0     0       0   \n",
       "1283482         1        0     0         0       0        1     0       0   \n",
       "1261045         0        0     0         0       0        0     1       1   \n",
       "\n",
       "         TYPE_C  labels  \n",
       "id                       \n",
       "1111132       0       1  \n",
       "1272384       0       4  \n",
       "1127287       1       4  \n",
       "1283482       1       4  \n",
       "1261045       0       4  \n",
       "\n",
       "[5 rows x 28 columns]"
      ]
     },
     "execution_count": 33,
     "metadata": {},
     "output_type": "execute_result"
    }
   ],
   "source": [
    "x_train.head()"
   ]
  },
  {
   "cell_type": "code",
   "execution_count": 34,
   "metadata": {
    "scrolled": true
   },
   "outputs": [
    {
     "data": {
      "text/html": [
       "<div>\n",
       "<style scoped>\n",
       "    .dataframe tbody tr th:only-of-type {\n",
       "        vertical-align: middle;\n",
       "    }\n",
       "\n",
       "    .dataframe tbody tr th {\n",
       "        vertical-align: top;\n",
       "    }\n",
       "\n",
       "    .dataframe thead th {\n",
       "        text-align: right;\n",
       "    }\n",
       "</style>\n",
       "<table border=\"1\" class=\"dataframe\">\n",
       "  <thead>\n",
       "    <tr style=\"text-align: right;\">\n",
       "      <th></th>\n",
       "      <th>week</th>\n",
       "      <th>center_id</th>\n",
       "      <th>meal_id</th>\n",
       "      <th>checkout_price</th>\n",
       "      <th>emailer_for_promotion</th>\n",
       "      <th>homepage_featured</th>\n",
       "      <th>city_code</th>\n",
       "      <th>region_code</th>\n",
       "      <th>op_area</th>\n",
       "      <th>Biryani</th>\n",
       "      <th>...</th>\n",
       "      <th>Sandwich</th>\n",
       "      <th>Seafood</th>\n",
       "      <th>Soup</th>\n",
       "      <th>Starters</th>\n",
       "      <th>Indian</th>\n",
       "      <th>Italian</th>\n",
       "      <th>Thai</th>\n",
       "      <th>TYPE_B</th>\n",
       "      <th>TYPE_C</th>\n",
       "      <th>labels</th>\n",
       "    </tr>\n",
       "    <tr>\n",
       "      <th>id</th>\n",
       "      <th></th>\n",
       "      <th></th>\n",
       "      <th></th>\n",
       "      <th></th>\n",
       "      <th></th>\n",
       "      <th></th>\n",
       "      <th></th>\n",
       "      <th></th>\n",
       "      <th></th>\n",
       "      <th></th>\n",
       "      <th></th>\n",
       "      <th></th>\n",
       "      <th></th>\n",
       "      <th></th>\n",
       "      <th></th>\n",
       "      <th></th>\n",
       "      <th></th>\n",
       "      <th></th>\n",
       "      <th></th>\n",
       "      <th></th>\n",
       "      <th></th>\n",
       "    </tr>\n",
       "  </thead>\n",
       "  <tbody>\n",
       "    <tr>\n",
       "      <th>1262137</th>\n",
       "      <td>85</td>\n",
       "      <td>101</td>\n",
       "      <td>1062</td>\n",
       "      <td>184.36</td>\n",
       "      <td>0</td>\n",
       "      <td>0</td>\n",
       "      <td>699</td>\n",
       "      <td>85</td>\n",
       "      <td>2.8</td>\n",
       "      <td>0</td>\n",
       "      <td>...</td>\n",
       "      <td>0</td>\n",
       "      <td>0</td>\n",
       "      <td>0</td>\n",
       "      <td>0</td>\n",
       "      <td>0</td>\n",
       "      <td>1</td>\n",
       "      <td>0</td>\n",
       "      <td>0</td>\n",
       "      <td>1</td>\n",
       "      <td>3</td>\n",
       "    </tr>\n",
       "    <tr>\n",
       "      <th>1124272</th>\n",
       "      <td>40</td>\n",
       "      <td>43</td>\n",
       "      <td>2304</td>\n",
       "      <td>484.03</td>\n",
       "      <td>0</td>\n",
       "      <td>0</td>\n",
       "      <td>590</td>\n",
       "      <td>56</td>\n",
       "      <td>5.1</td>\n",
       "      <td>0</td>\n",
       "      <td>...</td>\n",
       "      <td>0</td>\n",
       "      <td>0</td>\n",
       "      <td>0</td>\n",
       "      <td>0</td>\n",
       "      <td>1</td>\n",
       "      <td>0</td>\n",
       "      <td>0</td>\n",
       "      <td>0</td>\n",
       "      <td>0</td>\n",
       "      <td>4</td>\n",
       "    </tr>\n",
       "    <tr>\n",
       "      <th>1393517</th>\n",
       "      <td>12</td>\n",
       "      <td>124</td>\n",
       "      <td>1558</td>\n",
       "      <td>534.53</td>\n",
       "      <td>1</td>\n",
       "      <td>1</td>\n",
       "      <td>590</td>\n",
       "      <td>56</td>\n",
       "      <td>4.0</td>\n",
       "      <td>0</td>\n",
       "      <td>...</td>\n",
       "      <td>0</td>\n",
       "      <td>0</td>\n",
       "      <td>0</td>\n",
       "      <td>0</td>\n",
       "      <td>0</td>\n",
       "      <td>0</td>\n",
       "      <td>0</td>\n",
       "      <td>0</td>\n",
       "      <td>1</td>\n",
       "      <td>3</td>\n",
       "    </tr>\n",
       "    <tr>\n",
       "      <th>1265400</th>\n",
       "      <td>40</td>\n",
       "      <td>29</td>\n",
       "      <td>2490</td>\n",
       "      <td>242.50</td>\n",
       "      <td>0</td>\n",
       "      <td>0</td>\n",
       "      <td>526</td>\n",
       "      <td>34</td>\n",
       "      <td>4.0</td>\n",
       "      <td>0</td>\n",
       "      <td>...</td>\n",
       "      <td>0</td>\n",
       "      <td>0</td>\n",
       "      <td>0</td>\n",
       "      <td>0</td>\n",
       "      <td>0</td>\n",
       "      <td>1</td>\n",
       "      <td>0</td>\n",
       "      <td>0</td>\n",
       "      <td>1</td>\n",
       "      <td>4</td>\n",
       "    </tr>\n",
       "    <tr>\n",
       "      <th>1378662</th>\n",
       "      <td>68</td>\n",
       "      <td>76</td>\n",
       "      <td>1558</td>\n",
       "      <td>678.03</td>\n",
       "      <td>0</td>\n",
       "      <td>0</td>\n",
       "      <td>614</td>\n",
       "      <td>85</td>\n",
       "      <td>3.0</td>\n",
       "      <td>0</td>\n",
       "      <td>...</td>\n",
       "      <td>0</td>\n",
       "      <td>0</td>\n",
       "      <td>0</td>\n",
       "      <td>0</td>\n",
       "      <td>0</td>\n",
       "      <td>0</td>\n",
       "      <td>0</td>\n",
       "      <td>0</td>\n",
       "      <td>0</td>\n",
       "      <td>3</td>\n",
       "    </tr>\n",
       "  </tbody>\n",
       "</table>\n",
       "<p>5 rows × 28 columns</p>\n",
       "</div>"
      ],
      "text/plain": [
       "         week  center_id  meal_id  checkout_price  emailer_for_promotion  \\\n",
       "id                                                                         \n",
       "1262137    85        101     1062          184.36                      0   \n",
       "1124272    40         43     2304          484.03                      0   \n",
       "1393517    12        124     1558          534.53                      1   \n",
       "1265400    40         29     2490          242.50                      0   \n",
       "1378662    68         76     1558          678.03                      0   \n",
       "\n",
       "         homepage_featured  city_code  region_code  op_area  Biryani  ...  \\\n",
       "id                                                                    ...   \n",
       "1262137                  0        699           85      2.8        0  ...   \n",
       "1124272                  0        590           56      5.1        0  ...   \n",
       "1393517                  1        590           56      4.0        0  ...   \n",
       "1265400                  0        526           34      4.0        0  ...   \n",
       "1378662                  0        614           85      3.0        0  ...   \n",
       "\n",
       "         Sandwich  Seafood  Soup  Starters  Indian  Italian  Thai  TYPE_B  \\\n",
       "id                                                                          \n",
       "1262137         0        0     0         0       0        1     0       0   \n",
       "1124272         0        0     0         0       1        0     0       0   \n",
       "1393517         0        0     0         0       0        0     0       0   \n",
       "1265400         0        0     0         0       0        1     0       0   \n",
       "1378662         0        0     0         0       0        0     0       0   \n",
       "\n",
       "         TYPE_C  labels  \n",
       "id                       \n",
       "1262137       1       3  \n",
       "1124272       0       4  \n",
       "1393517       1       3  \n",
       "1265400       1       4  \n",
       "1378662       0       3  \n",
       "\n",
       "[5 rows x 28 columns]"
      ]
     },
     "execution_count": 34,
     "metadata": {},
     "output_type": "execute_result"
    }
   ],
   "source": [
    "x_val.head()"
   ]
  },
  {
   "cell_type": "code",
   "execution_count": 35,
   "metadata": {
    "scrolled": true
   },
   "outputs": [],
   "source": [
    "from sklearn.preprocessing import StandardScaler\n",
    "def scale(data):\n",
    "    scaler = StandardScaler()\n",
    "    scaler.fit(data)\n",
    "    scaler.transform(data)\n",
    "scale(x_train)\n",
    "scale(test)"
   ]
  },
  {
   "cell_type": "markdown",
   "metadata": {},
   "source": [
    "## Visualising Data for more Insights"
   ]
  },
  {
   "cell_type": "code",
   "execution_count": 36,
   "metadata": {
    "scrolled": true
   },
   "outputs": [],
   "source": [
    "from scipy.stats import pearsonr\n",
    "import seaborn as sns\n",
    "from matplotlib import pyplot as plt\n",
    "import numpy as np"
   ]
  },
  {
   "cell_type": "code",
   "execution_count": 37,
   "metadata": {
    "scrolled": true
   },
   "outputs": [
    {
     "data": {
      "text/plain": [
       "<matplotlib.axes._subplots.AxesSubplot at 0x21abb37ff08>"
      ]
     },
     "execution_count": 37,
     "metadata": {},
     "output_type": "execute_result"
    },
    {
     "data": {
      "image/png": "[encoded data removed]",
      "text/plain": [
       "<Figure size 432x288 with 1 Axes>"
      ]
     },
     "metadata": {
      "needs_background": "light"
     },
     "output_type": "display_data"
    }
   ],
   "source": [
    "sns.lineplot(train['checkout_price'],train['num_orders'])  #checkout price is highly correlated with num_orders "
   ]
  },
  {
   "cell_type": "code",
   "execution_count": 38,
   "metadata": {
    "scrolled": true
   },
   "outputs": [
    {
     "data": {
      "text/plain": [
       "<matplotlib.axes._subplots.AxesSubplot at 0x21ab6dde148>"
      ]
     },
     "execution_count": 38,
     "metadata": {},
     "output_type": "execute_result"
    },
    {
     "data": {
      "image/png": "[encoded data removed]",
      "text/plain": [
       "<Figure size 432x288 with 1 Axes>"
      ]
     },
     "metadata": {
      "needs_background": "light"
     },
     "output_type": "display_data"
    }
   ],
   "source": [
    "sns.barplot(train['week'], train['num_orders'],train['emailer_for_promotion']) #this plot shows that the no. of orders were significntly higger when an email was sent for promotion"
   ]
  },
  {
   "cell_type": "code",
   "execution_count": 39,
   "metadata": {
    "scrolled": true
   },
   "outputs": [
    {
     "data": {
      "text/plain": [
       "<matplotlib.axes._subplots.AxesSubplot at 0x21abfdcbd48>"
      ]
     },
     "execution_count": 39,
     "metadata": {},
     "output_type": "execute_result"
    },
    {
     "data": {
      "image/png": "[encoded data removed]",
      "text/plain": [
       "<Figure size 432x288 with 1 Axes>"
      ]
     },
     "metadata": {
      "needs_background": "light"
     },
     "output_type": "display_data"
    }
   ],
   "source": [
    "sns.lineplot(train['week'],train['num_orders']) #we can see that we had highest no. of orders in around 10th week and lowest around 62th week\n"
   ]
  },
  {
   "cell_type": "markdown",
   "metadata": {},
   "source": [
    "## Creating ML Model and Testing Accuracy"
   ]
  },
  {
   "cell_type": "markdown",
   "metadata": {},
   "source": [
    "#### For our Evaluation Metrics , it is advised in our problem statment to use RMSLE "
   ]
  },
  {
   "cell_type": "code",
   "execution_count": 40,
   "metadata": {
    "scrolled": true
   },
   "outputs": [],
   "source": [
    "from sklearn.linear_model import LinearRegression\n",
    "from sklearn.metrics import mean_squared_log_error\n",
    "from math import sqrt"
   ]
  },
  {
   "cell_type": "code",
   "execution_count": 50,
   "metadata": {},
   "outputs": [
    {
     "data": {
      "text/plain": [
       "RandomForestRegressor(bootstrap=True, ccp_alpha=0.0, criterion='mse',\n",
       "                      max_depth=None, max_features='auto', max_leaf_nodes=None,\n",
       "                      max_samples=None, min_impurity_decrease=0.0,\n",
       "                      min_impurity_split=None, min_samples_leaf=1,\n",
       "                      min_samples_split=2, min_weight_fraction_leaf=0.0,\n",
       "                      n_estimators=20, n_jobs=None, oob_score=False,\n",
       "                      random_state=0, verbose=0, warm_start=False)"
      ]
     },
     "execution_count": 50,
     "metadata": {},
     "output_type": "execute_result"
    }
   ],
   "source": [
    "from sklearn.ensemble import RandomForestRegressor \n",
    "reg_train = RandomForestRegressor(n_estimators = 20, random_state = 0) \n",
    "reg_test = RandomForestRegressor(n_estimators = 20, random_state = 0) \n",
    "\n",
    "reg_train.fit(x_train , y_train)\n",
    "reg_test.fit(x_val , y_val)"
   ]
  },
  {
   "cell_type": "code",
   "execution_count": 51,
   "metadata": {},
   "outputs": [],
   "source": [
    "pred_1 = reg_train.predict(x_train)\n",
    "pred_2 = reg_test.predict(x_val)"
   ]
  },
  {
   "cell_type": "markdown",
   "metadata": {},
   "source": [
    "### RMSLE for Train dataset"
   ]
  },
  {
   "cell_type": "code",
   "execution_count": 52,
   "metadata": {},
   "outputs": [
    {
     "data": {
      "text/plain": [
       "0.22644210667925158"
      ]
     },
     "execution_count": 52,
     "metadata": {},
     "output_type": "execute_result"
    }
   ],
   "source": [
    "sqrt(mean_squared_log_error( y_train, pred_1 ))"
   ]
  },
  {
   "cell_type": "code",
   "execution_count": 56,
   "metadata": {},
   "outputs": [
    {
     "data": {
      "text/plain": [
       "(<matplotlib.axes._subplots.AxesSubplot at 0x21a824f86c8>,\n",
       " <matplotlib.axes._subplots.AxesSubplot at 0x21a824f86c8>)"
      ]
     },
     "execution_count": 56,
     "metadata": {},
     "output_type": "execute_result"
    },
    {
     "data": {
      "image/png": "[encoded data removed]",
      "text/plain": [
       "<Figure size 432x288 with 1 Axes>"
      ]
     },
     "metadata": {
      "needs_background": "light"
     },
     "output_type": "display_data"
    }
   ],
   "source": [
    " sns.distplot(pred_1) , sns.distplot(train['num_orders']) #BLUE : Predicted values , ORANGE: Original Values"
   ]
  },
  {
   "cell_type": "markdown",
   "metadata": {},
   "source": [
    "### RMSLE for Validation dataset"
   ]
  },
  {
   "cell_type": "code",
   "execution_count": 53,
   "metadata": {},
   "outputs": [
    {
     "data": {
      "text/plain": [
       "0.24643465736977352"
      ]
     },
     "execution_count": 53,
     "metadata": {},
     "output_type": "execute_result"
    }
   ],
   "source": [
    "sqrt(mean_squared_log_error( y_val, pred_2 ))"
   ]
  },
  {
   "cell_type": "code",
   "execution_count": 55,
   "metadata": {},
   "outputs": [
    {
     "data": {
      "text/plain": [
       "(<matplotlib.axes._subplots.AxesSubplot at 0x21a8238bd88>,\n",
       " <matplotlib.axes._subplots.AxesSubplot at 0x21a8238bd88>)"
      ]
     },
     "execution_count": 55,
     "metadata": {},
     "output_type": "execute_result"
    },
    {
     "data": {
      "image/png": "[encoded data removed]",
      "text/plain": [
       "<Figure size 432x288 with 1 Axes>"
      ]
     },
     "metadata": {
      "needs_background": "light"
     },
     "output_type": "display_data"
    }
   ],
   "source": [
    " sns.distplot(pred_2) , sns.distplot(val['num_orders']) #BLUE: Predicted values , ORANGE: Original Values"
   ]
  },
  {
   "cell_type": "code",
   "execution_count": 45,
   "metadata": {},
   "outputs": [],
   "source": [
    "pred_test = reg.predict(test)\n",
    "diction={'Id':test.index,'num_orders':pred_test}\n",
    "df3=pd.DataFrame(diction)\n",
    "df3.to_csv('Submission.csv',index=False)"
   ]
  },
  {
   "cell_type": "code",
   "execution_count": 46,
   "metadata": {},
   "outputs": [
    {
     "data": {
      "text/html": [
       "<div>\n",
       "<style scoped>\n",
       "    .dataframe tbody tr th:only-of-type {\n",
       "        vertical-align: middle;\n",
       "    }\n",
       "\n",
       "    .dataframe tbody tr th {\n",
       "        vertical-align: top;\n",
       "    }\n",
       "\n",
       "    .dataframe thead th {\n",
       "        text-align: right;\n",
       "    }\n",
       "</style>\n",
       "<table border=\"1\" class=\"dataframe\">\n",
       "  <thead>\n",
       "    <tr style=\"text-align: right;\">\n",
       "      <th></th>\n",
       "      <th>Id</th>\n",
       "      <th>num_orders</th>\n",
       "    </tr>\n",
       "  </thead>\n",
       "  <tbody>\n",
       "    <tr>\n",
       "      <th>0</th>\n",
       "      <td>1028232</td>\n",
       "      <td>157.90</td>\n",
       "    </tr>\n",
       "    <tr>\n",
       "      <th>1</th>\n",
       "      <td>1127204</td>\n",
       "      <td>156.40</td>\n",
       "    </tr>\n",
       "    <tr>\n",
       "      <th>2</th>\n",
       "      <td>1212707</td>\n",
       "      <td>817.95</td>\n",
       "    </tr>\n",
       "    <tr>\n",
       "      <th>3</th>\n",
       "      <td>1082698</td>\n",
       "      <td>948.85</td>\n",
       "    </tr>\n",
       "    <tr>\n",
       "      <th>4</th>\n",
       "      <td>1400926</td>\n",
       "      <td>60.55</td>\n",
       "    </tr>\n",
       "    <tr>\n",
       "      <th>...</th>\n",
       "      <td>...</td>\n",
       "      <td>...</td>\n",
       "    </tr>\n",
       "    <tr>\n",
       "      <th>32568</th>\n",
       "      <td>1250239</td>\n",
       "      <td>87.40</td>\n",
       "    </tr>\n",
       "    <tr>\n",
       "      <th>32569</th>\n",
       "      <td>1039516</td>\n",
       "      <td>23.35</td>\n",
       "    </tr>\n",
       "    <tr>\n",
       "      <th>32570</th>\n",
       "      <td>1158107</td>\n",
       "      <td>843.65</td>\n",
       "    </tr>\n",
       "    <tr>\n",
       "      <th>32571</th>\n",
       "      <td>1444235</td>\n",
       "      <td>843.65</td>\n",
       "    </tr>\n",
       "    <tr>\n",
       "      <th>32572</th>\n",
       "      <td>1291286</td>\n",
       "      <td>777.70</td>\n",
       "    </tr>\n",
       "  </tbody>\n",
       "</table>\n",
       "<p>32573 rows × 2 columns</p>\n",
       "</div>"
      ],
      "text/plain": [
       "            Id  num_orders\n",
       "0      1028232      157.90\n",
       "1      1127204      156.40\n",
       "2      1212707      817.95\n",
       "3      1082698      948.85\n",
       "4      1400926       60.55\n",
       "...        ...         ...\n",
       "32568  1250239       87.40\n",
       "32569  1039516       23.35\n",
       "32570  1158107      843.65\n",
       "32571  1444235      843.65\n",
       "32572  1291286      777.70\n",
       "\n",
       "[32573 rows x 2 columns]"
      ]
     },
     "execution_count": 46,
     "metadata": {},
     "output_type": "execute_result"
    }
   ],
   "source": [
    "df3"
   ]
  },
  {
   "cell_type": "code",
   "execution_count": 47,
   "metadata": {},
   "outputs": [
    {
     "ename": "ModuleNotFoundError",
     "evalue": "No module named 'pmdarima'",
     "output_type": "error",
     "traceback": [
      "\u001b[1;31m---------------------------------------------------------------------------\u001b[0m",
      "\u001b[1;31mModuleNotFoundError\u001b[0m                       Traceback (most recent call last)",
      "\u001b[1;32m<ipython-input-47-927345c35ed5>\u001b[0m in \u001b[0;36m<module>\u001b[1;34m\u001b[0m\n\u001b[1;32m----> 1\u001b[1;33m \u001b[1;32mfrom\u001b[0m \u001b[0mpmdarima\u001b[0m \u001b[1;32mimport\u001b[0m \u001b[0mauto_arima\u001b[0m\u001b[1;33m\u001b[0m\u001b[1;33m\u001b[0m\u001b[0m\n\u001b[0m",
      "\u001b[1;31mModuleNotFoundError\u001b[0m: No module named 'pmdarima'"
     ]
    }
   ],
   "source": [
    "//from pmdarima import auto_arima "
   ]
  },
  {
   "cell_type": "code",
   "execution_count": null,
   "metadata": {},
   "outputs": [],
   "source": []
  }
 ],
 "metadata": {
  "celltoolbar": "Raw Cell Format",
  "kernelspec": {
   "display_name": "Python 3",
   "language": "python",
   "name": "python3"
  }
 },
 "nbformat": 4,
 "nbformat_minor": 4
}
